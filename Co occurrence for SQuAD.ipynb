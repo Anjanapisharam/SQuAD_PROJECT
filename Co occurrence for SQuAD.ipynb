{
 "cells": [
  {
   "cell_type": "markdown",
   "metadata": {},
   "source": [
    "##### PART - I #####"
   ]
  },
  {
   "cell_type": "code",
   "execution_count": 1710,
   "metadata": {
    "collapsed": true
   },
   "outputs": [],
   "source": [
    "import pandas as pd\n",
    "import nltk\n",
    "from nltk.tokenize import word_tokenize, sent_tokenize\n",
    "from nltk.corpus import wordnet as wn\n",
    "from nltk.corpus import stopwords\n",
    "from nltk.tokenize import RegexpTokenizer\n",
    "from nltk.stem import WordNetLemmatizer\n",
    "import spacy\n",
    "import numpy as np\n",
    "from spacy.en import English\n",
    "import string\n",
    "import unicodedata\n",
    "\n",
    "from collections import Counter\n",
    "from itertools import chain\n",
    "\n",
    "parser = English()\n",
    "\n",
    "\n",
    "\n",
    "sqd_data = pd.read_json('/home/anjana/Downloads/train-v1.1.json') "
   ]
  },
  {
   "cell_type": "markdown",
   "metadata": {},
   "source": [
    "##### Prepare Stopwords list, question type mapping list, punctuation mark list #####"
   ]
  },
  {
   "cell_type": "code",
   "execution_count": 1711,
   "metadata": {},
   "outputs": [],
   "source": [
    "stopword = stopwords.words('english')\n",
    "qtntype_list = ['What', 'When', 'Why', 'Which', 'Who','Whom', 'How']\n",
    "pun_list = list(string.punctuation)\n",
    "delelements_list = stopword + qtntype_list + pun_list\n",
    " "
   ]
  },
  {
   "cell_type": "markdown",
   "metadata": {},
   "source": [
    "##### Considering one matter from SQuAD data set - (Zeroth matter) ##### "
   ]
  },
  {
   "cell_type": "code",
   "execution_count": 1712,
   "metadata": {},
   "outputs": [
    {
     "data": {
      "text/plain": [
       "{u'context': u'Architecturally, the school has a Catholic character. Atop the Main Building\\'s gold dome is a golden statue of the Virgin Mary. Immediately in front of the Main Building and facing it, is a copper statue of Christ with arms upraised with the legend \"Venite Ad Me Omnes\". Next to the Main Building is the Basilica of the Sacred Heart. Immediately behind the basilica is the Grotto, a Marian place of prayer and reflection. It is a replica of the grotto at Lourdes, France where the Virgin Mary reputedly appeared to Saint Bernadette Soubirous in 1858. At the end of the main drive (and in a direct line that connects through 3 statues and the Gold Dome), is a simple, modern stone statue of Mary.',\n",
       " u'qas': [{u'answers': [{u'answer_start': 515,\n",
       "     u'text': u'Saint Bernadette Soubirous'}],\n",
       "   u'id': u'5733be284776f41900661182',\n",
       "   u'question': u'To whom did the Virgin Mary allegedly appear in 1858 in Lourdes France?'},\n",
       "  {u'answers': [{u'answer_start': 188, u'text': u'a copper statue of Christ'}],\n",
       "   u'id': u'5733be284776f4190066117f',\n",
       "   u'question': u'What is in front of the Notre Dame Main Building?'},\n",
       "  {u'answers': [{u'answer_start': 279, u'text': u'the Main Building'}],\n",
       "   u'id': u'5733be284776f41900661180',\n",
       "   u'question': u'The Basilica of the Sacred heart at Notre Dame is beside to which structure?'},\n",
       "  {u'answers': [{u'answer_start': 381,\n",
       "     u'text': u'a Marian place of prayer and reflection'}],\n",
       "   u'id': u'5733be284776f41900661181',\n",
       "   u'question': u'What is the Grotto at Notre Dame?'},\n",
       "  {u'answers': [{u'answer_start': 92,\n",
       "     u'text': u'a golden statue of the Virgin Mary'}],\n",
       "   u'id': u'5733be284776f4190066117e',\n",
       "   u'question': u'What sits on top of the Main Building at Notre Dame?'}]}"
      ]
     },
     "execution_count": 1712,
     "metadata": {},
     "output_type": "execute_result"
    }
   ],
   "source": [
    "matter = sqd_data.data[0]['paragraphs'][0] \n",
    "matter"
   ]
  },
  {
   "cell_type": "markdown",
   "metadata": {},
   "source": [
    "##### Extraction of  context #####"
   ]
  },
  {
   "cell_type": "code",
   "execution_count": 1713,
   "metadata": {},
   "outputs": [
    {
     "data": {
      "text/plain": [
       "'Architecturally, the school has a Catholic character. Atop the Main Building\\'s gold dome is a golden statue of the Virgin Mary. Immediately in front of the Main Building and facing it, is a copper statue of Christ with arms upraised with the legend \"Venite Ad Me Omnes\". Next to the Main Building is the Basilica of the Sacred Heart. Immediately behind the basilica is the Grotto, a Marian place of prayer and reflection. It is a replica of the grotto at Lourdes, France where the Virgin Mary reputedly appeared to Saint Bernadette Soubirous in 1858. At the end of the main drive (and in a direct line that connects through 3 statues and the Gold Dome), is a simple, modern stone statue of Mary.'"
      ]
     },
     "execution_count": 1713,
     "metadata": {},
     "output_type": "execute_result"
    }
   ],
   "source": [
    "context = sqd_data.data[0]['paragraphs'][0]['context'] \n",
    "context = unicodedata.normalize('NFKD', context).encode('ascii','ignore')\n",
    "context\n"
   ]
  },
  {
   "cell_type": "markdown",
   "metadata": {},
   "source": [
    "##### Context pre processing ##### "
   ]
  },
  {
   "cell_type": "markdown",
   "metadata": {},
   "source": [
    "###### Sentence tokenization of the context #####"
   ]
  },
  {
   "cell_type": "code",
   "execution_count": 1714,
   "metadata": {
    "collapsed": true
   },
   "outputs": [],
   "source": [
    "senttokenized_context = sent_tokenize(context)\n",
    "sentencelist = []\n",
    "for i in senttokenized_context:\n",
    "      sentencelist.append(i) "
   ]
  },
  {
   "cell_type": "code",
   "execution_count": 1715,
   "metadata": {},
   "outputs": [
    {
     "data": {
      "text/plain": [
       "['Architecturally, the school has a Catholic character.',\n",
       " \"Atop the Main Building's gold dome is a golden statue of the Virgin Mary.\",\n",
       " 'Immediately in front of the Main Building and facing it, is a copper statue of Christ with arms upraised with the legend \"Venite Ad Me Omnes\".',\n",
       " 'Next to the Main Building is the Basilica of the Sacred Heart.',\n",
       " 'Immediately behind the basilica is the Grotto, a Marian place of prayer and reflection.',\n",
       " 'It is a replica of the grotto at Lourdes, France where the Virgin Mary reputedly appeared to Saint Bernadette Soubirous in 1858.',\n",
       " 'At the end of the main drive (and in a direct line that connects through 3 statues and the Gold Dome), is a simple, modern stone statue of Mary.']"
      ]
     },
     "execution_count": 1715,
     "metadata": {},
     "output_type": "execute_result"
    }
   ],
   "source": [
    "senttokenized_context"
   ]
  },
  {
   "cell_type": "markdown",
   "metadata": {},
   "source": [
    "##### Word tokenization, Lemmatisation, stop word removal #####"
   ]
  },
  {
   "cell_type": "code",
   "execution_count": 1716,
   "metadata": {
    "collapsed": true
   },
   "outputs": [],
   "source": [
    "sentence_list = []\n",
    "lemmatizer = WordNetLemmatizer()\n",
    "\n",
    "\n",
    "for i in sentencelist:\n",
    "    words = nltk.word_tokenize(i)\n",
    "    words = ([x.lower() for x in words])\n",
    "    words = ([x for x in words if x not in delelements_list])\n",
    "    words = [lemmatizer.lemmatize(x) for x in words]\n",
    "    words = [[s.encode('ascii') for s in words]]\n",
    "    sentence_list.append(words)\n",
    "\n",
    "    "
   ]
  },
  {
   "cell_type": "code",
   "execution_count": 1837,
   "metadata": {},
   "outputs": [
    {
     "data": {
      "text/plain": [
       "[[['architecturally', 'school', 'catholic', 'character']],\n",
       " [['atop',\n",
       "   'main',\n",
       "   'building',\n",
       "   \"'s\",\n",
       "   'gold',\n",
       "   'dome',\n",
       "   'golden',\n",
       "   'statue',\n",
       "   'virgin',\n",
       "   'mary']],\n",
       " [['immediately',\n",
       "   'front',\n",
       "   'main',\n",
       "   'building',\n",
       "   'facing',\n",
       "   'copper',\n",
       "   'statue',\n",
       "   'christ',\n",
       "   'arm',\n",
       "   'upraised',\n",
       "   'legend',\n",
       "   '``',\n",
       "   'venite',\n",
       "   'ad',\n",
       "   'omnes',\n",
       "   \"''\"]],\n",
       " [['next', 'main', 'building', 'basilica', 'sacred', 'heart']],\n",
       " [['immediately',\n",
       "   'behind',\n",
       "   'basilica',\n",
       "   'grotto',\n",
       "   'marian',\n",
       "   'place',\n",
       "   'prayer',\n",
       "   'reflection']],\n",
       " [['replica',\n",
       "   'grotto',\n",
       "   'lourdes',\n",
       "   'france',\n",
       "   'virgin',\n",
       "   'mary',\n",
       "   'reputedly',\n",
       "   'appeared',\n",
       "   'saint',\n",
       "   'bernadette',\n",
       "   'soubirous',\n",
       "   '1858']],\n",
       " [['end',\n",
       "   'main',\n",
       "   'drive',\n",
       "   'direct',\n",
       "   'line',\n",
       "   'connects',\n",
       "   '3',\n",
       "   'statue',\n",
       "   'gold',\n",
       "   'dome',\n",
       "   'simple',\n",
       "   'modern',\n",
       "   'stone',\n",
       "   'statue',\n",
       "   'mary']]]"
      ]
     },
     "execution_count": 1837,
     "metadata": {},
     "output_type": "execute_result"
    }
   ],
   "source": [
    "sentence_list"
   ]
  },
  {
   "cell_type": "markdown",
   "metadata": {},
   "source": [
    "##### Questions list ##### "
   ]
  },
  {
   "cell_type": "code",
   "execution_count": 1717,
   "metadata": {},
   "outputs": [],
   "source": [
    "question_list = []\n",
    "for i in range(len(sqd_data.data[0]['paragraphs'][0]['qas'])): \n",
    "    l1 = sqd_data.data[0]['paragraphs'][0]['qas'][i]['question'] \n",
    "    l1 = unicodedata.normalize('NFKD', l1).encode('ascii','ignore')\n",
    "\n",
    "    question_list.append(l1) "
   ]
  },
  {
   "cell_type": "code",
   "execution_count": 1718,
   "metadata": {},
   "outputs": [
    {
     "data": {
      "text/plain": [
       "'To whom did the Virgin Mary allegedly appear in 1858 in Lourdes France?'"
      ]
     },
     "execution_count": 1718,
     "metadata": {},
     "output_type": "execute_result"
    }
   ],
   "source": [
    "question_list[0] "
   ]
  },
  {
   "cell_type": "markdown",
   "metadata": {},
   "source": [
    "* Keeping question's first word in upper case "
   ]
  },
  {
   "cell_type": "code",
   "execution_count": 1719,
   "metadata": {
    "collapsed": true
   },
   "outputs": [],
   "source": [
    "import re\n",
    "\n",
    "def replace_all(repls, str):\n",
    "    # return re.sub('|'.join(repls.keys()), lambda k: repls[k.group(0)], str)                                     \n",
    "    return re.sub('|'.join(re.escape(key) for key in repls.keys()),\n",
    "                  lambda k: repls[k.group(0)], str)     "
   ]
  },
  {
   "cell_type": "code",
   "execution_count": 1720,
   "metadata": {},
   "outputs": [],
   "source": [
    "Question_list = []\n",
    "for i in range(len(question_list)): \n",
    "      Question_list.append(replace_all({\"how\": \"How\", \"when\": \"When\",\"what\": \"What\",\"whom\": \"Whom\",\"which\": \"Which\"}, question_list[i]) \n",
    "                          )"
   ]
  },
  {
   "cell_type": "code",
   "execution_count": 1721,
   "metadata": {},
   "outputs": [
    {
     "data": {
      "text/plain": [
       "['To Whom did the Virgin Mary allegedly appear in 1858 in Lourdes France?',\n",
       " 'What is in front of the Notre Dame Main Building?',\n",
       " 'The Basilica of the Sacred heart at Notre Dame is beside to Which structure?',\n",
       " 'What is the Grotto at Notre Dame?',\n",
       " 'What sits on top of the Main Building at Notre Dame?']"
      ]
     },
     "execution_count": 1721,
     "metadata": {},
     "output_type": "execute_result"
    }
   ],
   "source": [
    "Question_list"
   ]
  },
  {
   "cell_type": "markdown",
   "metadata": {},
   "source": [
    "##### Mapping of questions #####"
   ]
  },
  {
   "cell_type": "code",
   "execution_count": 1842,
   "metadata": {
    "scrolled": false
   },
   "outputs": [],
   "source": [
    "question_mapping= []\n",
    "delquestionpart_list = []\n",
    "stopwords_removed_qn = []\n",
    "\n",
    "for i in range(len(Question_list)):\n",
    "    l2 = nltk.word_tokenize(Question_list[i])\n",
    "    for i in range(len(l2)):\n",
    "        if l2[i] in qtntype_list:\n",
    "                combine_list = l2[i]+\" \"+l2[i+1]\n",
    "                remove_list = combine_list.split() \n",
    "                l3 = [x for x in l2 if x not in remove_list]\n",
    "                l4 = [x for x in l2 if x not in stopword] \n",
    "                question_mapping.append(combine_list) \n",
    "                delquestionpart_list.append(l3) \n",
    "                stopwords_removed_qn.append(l4)"
   ]
  },
  {
   "cell_type": "code",
   "execution_count": 1723,
   "metadata": {},
   "outputs": [
    {
     "data": {
      "text/plain": [
       "['Whom did', 'What is', 'Which structure', 'What is', 'What sits']"
      ]
     },
     "execution_count": 1723,
     "metadata": {},
     "output_type": "execute_result"
    }
   ],
   "source": [
    "question_mapping"
   ]
  },
  {
   "cell_type": "markdown",
   "metadata": {},
   "source": [
    "##### Converting question sentence into 'unicode' structure for NER #####"
   ]
  },
  {
   "cell_type": "code",
   "execution_count": 1724,
   "metadata": {},
   "outputs": [],
   "source": [
    "joined_delquestionpart_list =  []\n",
    "for i in range(len(delquestionpart_list)):\n",
    "        joined_question = unicode(\" \".join(delquestionpart_list[i]),\"utf-8\") \n",
    "        joined_delquestionpart_list.append(joined_question) "
   ]
  },
  {
   "cell_type": "code",
   "execution_count": 1725,
   "metadata": {},
   "outputs": [
    {
     "data": {
      "text/plain": [
       "[u'To the Virgin Mary allegedly appear in 1858 in Lourdes France ?',\n",
       " u'in front of the Notre Dame Main Building ?',\n",
       " u'The Basilica of the Sacred heart at Notre Dame is beside to ?',\n",
       " u'the Grotto at Notre Dame ?',\n",
       " u'on top of the Main Building at Notre Dame ?']"
      ]
     },
     "execution_count": 1725,
     "metadata": {},
     "output_type": "execute_result"
    }
   ],
   "source": [
    "joined_delquestionpart_list\n"
   ]
  },
  {
   "cell_type": "code",
   "execution_count": 1726,
   "metadata": {},
   "outputs": [],
   "source": [
    "import spacy\n",
    "nlp = spacy.load('en')\n",
    "\n",
    "qn_ner_mapping = []\n",
    "for i in range(len(joined_delquestionpart_list)):\n",
    "    doc = nlp(joined_delquestionpart_list[i])\n",
    "    for ent in doc.ents:\n",
    "        qn_ner_mapping.append([i,ent.text,ent.label_])  "
   ]
  },
  {
   "cell_type": "code",
   "execution_count": 1727,
   "metadata": {},
   "outputs": [
    {
     "data": {
      "text/plain": [
       "[[0, u'1858', u'DATE'],\n",
       " [0, u'Lourdes France', u'GPE'],\n",
       " [1, u'the Notre Dame Main Building', u'LOC'],\n",
       " [2, u'Basilica', u'PERSON'],\n",
       " [2, u'Notre Dame', u'GPE'],\n",
       " [3, u'Notre Dame', u'GPE'],\n",
       " [4, u'the Main Building', u'FAC']]"
      ]
     },
     "execution_count": 1727,
     "metadata": {},
     "output_type": "execute_result"
    }
   ],
   "source": [
    "qn_ner_mapping"
   ]
  },
  {
   "cell_type": "markdown",
   "metadata": {},
   "source": [
    "##### Data frame for QUESTION mapping #####"
   ]
  },
  {
   "cell_type": "code",
   "execution_count": 1728,
   "metadata": {
    "collapsed": true
   },
   "outputs": [],
   "source": [
    "Question_no = []\n",
    "Qn_word = [] \n",
    "Qn_tag = []\n",
    "for i in range(len(qn_ner_mapping)):\n",
    "    Question_no.append(qn_ner_mapping[i][0])\n",
    "    Qn_word.append(qn_ner_mapping[i][1])\n",
    "    Qn_tag.append(qn_ner_mapping[i][2])\n",
    "     "
   ]
  },
  {
   "cell_type": "code",
   "execution_count": 1729,
   "metadata": {},
   "outputs": [
    {
     "data": {
      "text/plain": [
       "['Whom did', 'What is', 'Which structure', 'What is', 'What sits']"
      ]
     },
     "execution_count": 1729,
     "metadata": {},
     "output_type": "execute_result"
    }
   ],
   "source": [
    "question_mapping"
   ]
  },
  {
   "cell_type": "code",
   "execution_count": 1730,
   "metadata": {},
   "outputs": [
    {
     "name": "stdout",
     "output_type": "stream",
     "text": [
      "0\n",
      "1\n",
      "2\n",
      "1\n",
      "4\n"
     ]
    }
   ],
   "source": [
    "for i in range(len(question_mapping)):\n",
    "    df = question_mapping.index(question_mapping[i])\n",
    "    print(df)"
   ]
  },
  {
   "cell_type": "code",
   "execution_count": 1731,
   "metadata": {},
   "outputs": [],
   "source": [
    "Question_character_df = pd.DataFrame()\n",
    "qn_mapping = []\n",
    "for i in range(len(Question_no)):\n",
    "    for j in range(len(question_mapping)):\n",
    "        if (Question_no[i]) == j:\n",
    "            qn_mapping.append(question_mapping[j])\n",
    "\n",
    "\n",
    "Question_character_df['QuestionNO'] = Question_no\n",
    "Question_character_df['QuestionMapping'] = qn_mapping \n",
    "Question_character_df['Word'] = Qn_word\n",
    "Question_character_df['WordTag'] = Qn_tag\n"
   ]
  },
  {
   "cell_type": "markdown",
   "metadata": {},
   "source": [
    "##### Question - mapping #####"
   ]
  },
  {
   "cell_type": "code",
   "execution_count": 1732,
   "metadata": {},
   "outputs": [
    {
     "data": {
      "text/html": [
       "<div>\n",
       "<style>\n",
       "    .dataframe thead tr:only-child th {\n",
       "        text-align: right;\n",
       "    }\n",
       "\n",
       "    .dataframe thead th {\n",
       "        text-align: left;\n",
       "    }\n",
       "\n",
       "    .dataframe tbody tr th {\n",
       "        vertical-align: top;\n",
       "    }\n",
       "</style>\n",
       "<table border=\"1\" class=\"dataframe\">\n",
       "  <thead>\n",
       "    <tr style=\"text-align: right;\">\n",
       "      <th></th>\n",
       "      <th>QuestionNO</th>\n",
       "      <th>QuestionMapping</th>\n",
       "      <th>Word</th>\n",
       "      <th>WordTag</th>\n",
       "    </tr>\n",
       "  </thead>\n",
       "  <tbody>\n",
       "    <tr>\n",
       "      <th>0</th>\n",
       "      <td>0</td>\n",
       "      <td>Whom did</td>\n",
       "      <td>1858</td>\n",
       "      <td>DATE</td>\n",
       "    </tr>\n",
       "    <tr>\n",
       "      <th>1</th>\n",
       "      <td>0</td>\n",
       "      <td>Whom did</td>\n",
       "      <td>Lourdes France</td>\n",
       "      <td>GPE</td>\n",
       "    </tr>\n",
       "    <tr>\n",
       "      <th>2</th>\n",
       "      <td>1</td>\n",
       "      <td>What is</td>\n",
       "      <td>the Notre Dame Main Building</td>\n",
       "      <td>LOC</td>\n",
       "    </tr>\n",
       "    <tr>\n",
       "      <th>3</th>\n",
       "      <td>2</td>\n",
       "      <td>Which structure</td>\n",
       "      <td>Basilica</td>\n",
       "      <td>PERSON</td>\n",
       "    </tr>\n",
       "    <tr>\n",
       "      <th>4</th>\n",
       "      <td>2</td>\n",
       "      <td>Which structure</td>\n",
       "      <td>Notre Dame</td>\n",
       "      <td>GPE</td>\n",
       "    </tr>\n",
       "    <tr>\n",
       "      <th>5</th>\n",
       "      <td>3</td>\n",
       "      <td>What is</td>\n",
       "      <td>Notre Dame</td>\n",
       "      <td>GPE</td>\n",
       "    </tr>\n",
       "    <tr>\n",
       "      <th>6</th>\n",
       "      <td>4</td>\n",
       "      <td>What sits</td>\n",
       "      <td>the Main Building</td>\n",
       "      <td>FAC</td>\n",
       "    </tr>\n",
       "  </tbody>\n",
       "</table>\n",
       "</div>"
      ],
      "text/plain": [
       "   QuestionNO  QuestionMapping                          Word WordTag\n",
       "0           0         Whom did                          1858    DATE\n",
       "1           0         Whom did                Lourdes France     GPE\n",
       "2           1          What is  the Notre Dame Main Building     LOC\n",
       "3           2  Which structure                      Basilica  PERSON\n",
       "4           2  Which structure                    Notre Dame     GPE\n",
       "5           3          What is                    Notre Dame     GPE\n",
       "6           4        What sits             the Main Building     FAC"
      ]
     },
     "execution_count": 1732,
     "metadata": {},
     "output_type": "execute_result"
    }
   ],
   "source": [
    "Question_character_df"
   ]
  },
  {
   "cell_type": "markdown",
   "metadata": {},
   "source": [
    "################################################################################################################"
   ]
  },
  {
   "cell_type": "markdown",
   "metadata": {},
   "source": [
    "##### Context preprocessing ##### "
   ]
  },
  {
   "cell_type": "code",
   "execution_count": 1733,
   "metadata": {},
   "outputs": [
    {
     "data": {
      "text/plain": [
       "'Architecturally, the school has a Catholic character. Atop the Main Building\\'s gold dome is a golden statue of the Virgin Mary. Immediately in front of the Main Building and facing it, is a copper statue of Christ with arms upraised with the legend \"Venite Ad Me Omnes\". Next to the Main Building is the Basilica of the Sacred Heart. Immediately behind the basilica is the Grotto, a Marian place of prayer and reflection. It is a replica of the grotto at Lourdes, France where the Virgin Mary reputedly appeared to Saint Bernadette Soubirous in 1858. At the end of the main drive (and in a direct line that connects through 3 statues and the Gold Dome), is a simple, modern stone statue of Mary.'"
      ]
     },
     "execution_count": 1733,
     "metadata": {},
     "output_type": "execute_result"
    }
   ],
   "source": [
    "context = sqd_data.data[0]['paragraphs'][0]['context'] \n",
    "context = unicodedata.normalize('NFKD', context).encode('ascii','ignore')\n",
    "context"
   ]
  },
  {
   "cell_type": "markdown",
   "metadata": {},
   "source": [
    "##### Sentence tokenization #####"
   ]
  },
  {
   "cell_type": "code",
   "execution_count": 1734,
   "metadata": {},
   "outputs": [],
   "source": [
    "senttokenized_context = sent_tokenize(context)\n",
    "sentencelist = []\n",
    "for i in senttokenized_context:\n",
    "      sentencelist.append(i) "
   ]
  },
  {
   "cell_type": "code",
   "execution_count": 1735,
   "metadata": {},
   "outputs": [
    {
     "data": {
      "text/plain": [
       "['Architecturally, the school has a Catholic character.',\n",
       " \"Atop the Main Building's gold dome is a golden statue of the Virgin Mary.\",\n",
       " 'Immediately in front of the Main Building and facing it, is a copper statue of Christ with arms upraised with the legend \"Venite Ad Me Omnes\".',\n",
       " 'Next to the Main Building is the Basilica of the Sacred Heart.',\n",
       " 'Immediately behind the basilica is the Grotto, a Marian place of prayer and reflection.',\n",
       " 'It is a replica of the grotto at Lourdes, France where the Virgin Mary reputedly appeared to Saint Bernadette Soubirous in 1858.',\n",
       " 'At the end of the main drive (and in a direct line that connects through 3 statues and the Gold Dome), is a simple, modern stone statue of Mary.']"
      ]
     },
     "execution_count": 1735,
     "metadata": {},
     "output_type": "execute_result"
    }
   ],
   "source": [
    "senttokenized_context\n"
   ]
  },
  {
   "cell_type": "code",
   "execution_count": 1736,
   "metadata": {},
   "outputs": [],
   "source": [
    "contextword_list = []\n",
    "lemmatizer = WordNetLemmatizer()\n",
    "\n",
    " \n",
    "for i in sentencelist:\n",
    "    words = nltk.word_tokenize(i)\n",
    "    #words = ([x.lower() for x in words])\n",
    "    words = ([x for x in words if x not in stopword])\n",
    "    words = [lemmatizer.lemmatize(x) for x in words]\n",
    "    words = [[s.encode('ascii') for s in words]]\n",
    "    contextword_list.append(words)\n",
    "\n",
    "    "
   ]
  },
  {
   "cell_type": "code",
   "execution_count": 1737,
   "metadata": {},
   "outputs": [
    {
     "data": {
      "text/plain": [
       "[['Architecturally', ',', 'school', 'Catholic', 'character', '.']]"
      ]
     },
     "execution_count": 1737,
     "metadata": {},
     "output_type": "execute_result"
    }
   ],
   "source": [
    "contextword_list[0]"
   ]
  },
  {
   "cell_type": "markdown",
   "metadata": {},
   "source": [
    "##### Extracting answer words #####"
   ]
  },
  {
   "cell_type": "code",
   "execution_count": 1738,
   "metadata": {},
   "outputs": [],
   "source": [
    "ans_list = []\n",
    "for i in range(len(sqd_data.data[0]['paragraphs'][0]['qas'])): \n",
    "    l1 = sqd_data.data[0]['paragraphs'][0]['qas'][i] \n",
    "\n",
    "    ans_word = l1['answers'][0]['text']\n",
    "    ans_word = unicodedata.normalize('NFKD', ans_word).encode('ascii','ignore')\n",
    "    ans_split = ans_word.split()\n",
    "    #ans_words = [x.lower() for x in ans_split]\n",
    "    ans_list.append(ans_split) \n",
    "    \n",
    "    "
   ]
  },
  {
   "cell_type": "code",
   "execution_count": 1739,
   "metadata": {},
   "outputs": [
    {
     "data": {
      "text/plain": [
       "[['Saint', 'Bernadette', 'Soubirous'],\n",
       " ['a', 'copper', 'statue', 'of', 'Christ'],\n",
       " ['the', 'Main', 'Building'],\n",
       " ['a', 'Marian', 'place', 'of', 'prayer', 'and', 'reflection'],\n",
       " ['a', 'golden', 'statue', 'of', 'the', 'Virgin', 'Mary']]"
      ]
     },
     "execution_count": 1739,
     "metadata": {},
     "output_type": "execute_result"
    }
   ],
   "source": [
    "ans_list"
   ]
  },
  {
   "cell_type": "markdown",
   "metadata": {},
   "source": [
    "##### Converting answer words to 'unicode'  for NER #####"
   ]
  },
  {
   "cell_type": "code",
   "execution_count": 1740,
   "metadata": {
    "collapsed": true
   },
   "outputs": [],
   "source": [
    "answers = []\n",
    "for i in range(len(ans_list)):\n",
    "    l1 = ' '.join(ans_list[i]) \n",
    "    l1 = unicode(l1,\"utf-8\")\n",
    "    answers.append(l1) "
   ]
  },
  {
   "cell_type": "code",
   "execution_count": 1741,
   "metadata": {},
   "outputs": [
    {
     "data": {
      "text/plain": [
       "[u'Saint Bernadette Soubirous',\n",
       " u'a copper statue of Christ',\n",
       " u'the Main Building',\n",
       " u'a Marian place of prayer and reflection',\n",
       " u'a golden statue of the Virgin Mary']"
      ]
     },
     "execution_count": 1741,
     "metadata": {},
     "output_type": "execute_result"
    }
   ],
   "source": [
    "answers"
   ]
  },
  {
   "cell_type": "code",
   "execution_count": 1742,
   "metadata": {},
   "outputs": [],
   "source": [
    "ans_mapping = []\n",
    "ans_word = []\n",
    "for i in range(len(answers)):\n",
    "    doc = nlp(answers[i])\n",
    "    for ent in doc.ents:\n",
    "        ans_mapping.append(ent.label_)  \n",
    "        ans_word.append(ent.text)\n",
    "        "
   ]
  },
  {
   "cell_type": "markdown",
   "metadata": {},
   "source": [
    "##### Answer mapping ###### "
   ]
  },
  {
   "cell_type": "code",
   "execution_count": 1743,
   "metadata": {},
   "outputs": [],
   "source": [
    "Answer_character_df = pd.DataFrame()\n",
    "Answer_character_df['QuestionNo'] = range(len(ans_mapping))\n",
    "Answer_character_df['QuestionMapping'] = ans_mapping\n",
    "Answer_character_df['AnswerWord'] = ans_word\n",
    "Answer_character_df['AnsWordTag'] = ans_mapping"
   ]
  },
  {
   "cell_type": "code",
   "execution_count": 1744,
   "metadata": {},
   "outputs": [
    {
     "data": {
      "text/html": [
       "<div>\n",
       "<style>\n",
       "    .dataframe thead tr:only-child th {\n",
       "        text-align: right;\n",
       "    }\n",
       "\n",
       "    .dataframe thead th {\n",
       "        text-align: left;\n",
       "    }\n",
       "\n",
       "    .dataframe tbody tr th {\n",
       "        vertical-align: top;\n",
       "    }\n",
       "</style>\n",
       "<table border=\"1\" class=\"dataframe\">\n",
       "  <thead>\n",
       "    <tr style=\"text-align: right;\">\n",
       "      <th></th>\n",
       "      <th>QuestionNo</th>\n",
       "      <th>QuestionMapping</th>\n",
       "      <th>AnswerWord</th>\n",
       "      <th>AnsWordTag</th>\n",
       "    </tr>\n",
       "  </thead>\n",
       "  <tbody>\n",
       "    <tr>\n",
       "      <th>0</th>\n",
       "      <td>0</td>\n",
       "      <td>PERSON</td>\n",
       "      <td>Saint Bernadette Soubirous</td>\n",
       "      <td>PERSON</td>\n",
       "    </tr>\n",
       "    <tr>\n",
       "      <th>1</th>\n",
       "      <td>1</td>\n",
       "      <td>NORP</td>\n",
       "      <td>Christ</td>\n",
       "      <td>NORP</td>\n",
       "    </tr>\n",
       "    <tr>\n",
       "      <th>2</th>\n",
       "      <td>2</td>\n",
       "      <td>FAC</td>\n",
       "      <td>the Main Building</td>\n",
       "      <td>FAC</td>\n",
       "    </tr>\n",
       "    <tr>\n",
       "      <th>3</th>\n",
       "      <td>3</td>\n",
       "      <td>PERSON</td>\n",
       "      <td>Marian</td>\n",
       "      <td>PERSON</td>\n",
       "    </tr>\n",
       "  </tbody>\n",
       "</table>\n",
       "</div>"
      ],
      "text/plain": [
       "   QuestionNo QuestionMapping                  AnswerWord AnsWordTag\n",
       "0           0          PERSON  Saint Bernadette Soubirous     PERSON\n",
       "1           1            NORP                      Christ       NORP\n",
       "2           2             FAC           the Main Building        FAC\n",
       "3           3          PERSON                      Marian     PERSON"
      ]
     },
     "execution_count": 1744,
     "metadata": {},
     "output_type": "execute_result"
    }
   ],
   "source": [
    "Answer_character_df"
   ]
  },
  {
   "cell_type": "markdown",
   "metadata": {},
   "source": [
    "###################################################################################################################"
   ]
  },
  {
   "cell_type": "markdown",
   "metadata": {},
   "source": [
    "##### Co occurance matrix #####"
   ]
  },
  {
   "cell_type": "code",
   "execution_count": 1745,
   "metadata": {},
   "outputs": [],
   "source": [
    "Answer_document = []\n",
    "for i in range(len(Answer_character_df.index)): \n",
    "    Answer_document.append([Answer_character_df['QuestionMapping'][i],Answer_character_df['AnsWordTag'][i]]) "
   ]
  },
  {
   "cell_type": "code",
   "execution_count": 1746,
   "metadata": {},
   "outputs": [
    {
     "data": {
      "text/plain": [
       "[[u'PERSON', u'PERSON'],\n",
       " [u'NORP', u'NORP'],\n",
       " [u'FAC', u'FAC'],\n",
       " [u'PERSON', u'PERSON']]"
      ]
     },
     "execution_count": 1746,
     "metadata": {},
     "output_type": "execute_result"
    }
   ],
   "source": [
    "Answer_document"
   ]
  },
  {
   "cell_type": "code",
   "execution_count": 1747,
   "metadata": {},
   "outputs": [
    {
     "data": {
      "text/html": [
       "<div>\n",
       "<style>\n",
       "    .dataframe thead tr:only-child th {\n",
       "        text-align: right;\n",
       "    }\n",
       "\n",
       "    .dataframe thead th {\n",
       "        text-align: left;\n",
       "    }\n",
       "\n",
       "    .dataframe tbody tr th {\n",
       "        vertical-align: top;\n",
       "    }\n",
       "</style>\n",
       "<table border=\"1\" class=\"dataframe\">\n",
       "  <thead>\n",
       "    <tr style=\"text-align: right;\">\n",
       "      <th></th>\n",
       "      <th>QuestionNO</th>\n",
       "      <th>QuestionMapping</th>\n",
       "      <th>Word</th>\n",
       "      <th>WordTag</th>\n",
       "    </tr>\n",
       "  </thead>\n",
       "  <tbody>\n",
       "    <tr>\n",
       "      <th>0</th>\n",
       "      <td>0</td>\n",
       "      <td>Whom did</td>\n",
       "      <td>1858</td>\n",
       "      <td>DATE</td>\n",
       "    </tr>\n",
       "    <tr>\n",
       "      <th>1</th>\n",
       "      <td>0</td>\n",
       "      <td>Whom did</td>\n",
       "      <td>Lourdes France</td>\n",
       "      <td>GPE</td>\n",
       "    </tr>\n",
       "    <tr>\n",
       "      <th>2</th>\n",
       "      <td>1</td>\n",
       "      <td>What is</td>\n",
       "      <td>the Notre Dame Main Building</td>\n",
       "      <td>LOC</td>\n",
       "    </tr>\n",
       "    <tr>\n",
       "      <th>3</th>\n",
       "      <td>2</td>\n",
       "      <td>Which structure</td>\n",
       "      <td>Basilica</td>\n",
       "      <td>PERSON</td>\n",
       "    </tr>\n",
       "    <tr>\n",
       "      <th>4</th>\n",
       "      <td>2</td>\n",
       "      <td>Which structure</td>\n",
       "      <td>Notre Dame</td>\n",
       "      <td>GPE</td>\n",
       "    </tr>\n",
       "  </tbody>\n",
       "</table>\n",
       "</div>"
      ],
      "text/plain": [
       "   QuestionNO  QuestionMapping                          Word WordTag\n",
       "0           0         Whom did                          1858    DATE\n",
       "1           0         Whom did                Lourdes France     GPE\n",
       "2           1          What is  the Notre Dame Main Building     LOC\n",
       "3           2  Which structure                      Basilica  PERSON\n",
       "4           2  Which structure                    Notre Dame     GPE"
      ]
     },
     "execution_count": 1747,
     "metadata": {},
     "output_type": "execute_result"
    }
   ],
   "source": [
    "Question_character_df.head()"
   ]
  },
  {
   "cell_type": "code",
   "execution_count": 1748,
   "metadata": {
    "collapsed": true
   },
   "outputs": [],
   "source": [
    "Question_document = []\n",
    "for i in range(len(Question_character_df.index)):\n",
    "    Question_document.append([Question_character_df['QuestionMapping'][i],Question_character_df['WordTag'][i]])\n"
   ]
  },
  {
   "cell_type": "code",
   "execution_count": 1749,
   "metadata": {},
   "outputs": [
    {
     "data": {
      "text/plain": [
       "[['Whom did', u'DATE'],\n",
       " ['Whom did', u'GPE'],\n",
       " ['What is', u'LOC'],\n",
       " ['Which structure', u'PERSON'],\n",
       " ['Which structure', u'GPE'],\n",
       " ['What is', u'GPE'],\n",
       " ['What sits', u'FAC']]"
      ]
     },
     "execution_count": 1749,
     "metadata": {},
     "output_type": "execute_result"
    }
   ],
   "source": [
    "Question_document"
   ]
  },
  {
   "cell_type": "markdown",
   "metadata": {},
   "source": [
    "##### joining question-tag and answer-tag #####"
   ]
  },
  {
   "cell_type": "code",
   "execution_count": 1750,
   "metadata": {
    "collapsed": true
   },
   "outputs": [],
   "source": [
    "document = Answer_document + Question_document"
   ]
  },
  {
   "cell_type": "code",
   "execution_count": 1751,
   "metadata": {},
   "outputs": [
    {
     "data": {
      "text/plain": [
       "[[u'PERSON', u'PERSON'],\n",
       " [u'NORP', u'NORP'],\n",
       " [u'FAC', u'FAC'],\n",
       " [u'PERSON', u'PERSON'],\n",
       " ['Whom did', u'DATE'],\n",
       " ['Whom did', u'GPE'],\n",
       " ['What is', u'LOC'],\n",
       " ['Which structure', u'PERSON'],\n",
       " ['Which structure', u'GPE'],\n",
       " ['What is', u'GPE'],\n",
       " ['What sits', u'FAC']]"
      ]
     },
     "execution_count": 1751,
     "metadata": {},
     "output_type": "execute_result"
    }
   ],
   "source": [
    "document\n"
   ]
  },
  {
   "cell_type": "code",
   "execution_count": 1752,
   "metadata": {},
   "outputs": [],
   "source": [
    "import numpy\n",
    "import itertools\n",
    "from collections import Counter\n",
    "varnames = tuple(sorted(set(itertools.chain(*document))))\n"
   ]
  },
  {
   "cell_type": "code",
   "execution_count": 1753,
   "metadata": {
    "collapsed": true
   },
   "outputs": [],
   "source": [
    "expanded = [tuple(itertools.combinations(d, 2)) for d in document]\n",
    "expanded = itertools.chain(*expanded)\n",
    "\n",
    "# Sort the combinations so that A,B and B,A are treated the same\n",
    "expanded = [tuple(sorted(d)) for d in expanded]\n",
    "\n",
    "# count the combinations\n",
    "c = Counter(expanded) \n",
    "\n",
    "\n",
    "# Create the table\n",
    "table = numpy.zeros((len(varnames),len(varnames)), dtype=int)\n",
    "\n",
    "for i, v1 in enumerate(varnames):\n",
    "    for j, v2 in enumerate(varnames[i:]):        \n",
    "        j = j + i \n",
    "        table[i, j] = c[v1, v2]\n",
    "        table[j, i] = c[v1, v2]\n"
   ]
  },
  {
   "cell_type": "code",
   "execution_count": 1754,
   "metadata": {},
   "outputs": [
    {
     "data": {
      "text/html": [
       "<div>\n",
       "<style>\n",
       "    .dataframe thead tr:only-child th {\n",
       "        text-align: right;\n",
       "    }\n",
       "\n",
       "    .dataframe thead th {\n",
       "        text-align: left;\n",
       "    }\n",
       "\n",
       "    .dataframe tbody tr th {\n",
       "        vertical-align: top;\n",
       "    }\n",
       "</style>\n",
       "<table border=\"1\" class=\"dataframe\">\n",
       "  <thead>\n",
       "    <tr style=\"text-align: right;\">\n",
       "      <th></th>\n",
       "      <th>DATE</th>\n",
       "      <th>FAC</th>\n",
       "      <th>GPE</th>\n",
       "      <th>LOC</th>\n",
       "      <th>NORP</th>\n",
       "      <th>PERSON</th>\n",
       "      <th>What is</th>\n",
       "      <th>What sits</th>\n",
       "      <th>Which structure</th>\n",
       "      <th>Whom did</th>\n",
       "    </tr>\n",
       "  </thead>\n",
       "  <tbody>\n",
       "    <tr>\n",
       "      <th>DATE</th>\n",
       "      <td>0</td>\n",
       "      <td>0</td>\n",
       "      <td>0</td>\n",
       "      <td>0</td>\n",
       "      <td>0</td>\n",
       "      <td>0</td>\n",
       "      <td>0</td>\n",
       "      <td>0</td>\n",
       "      <td>0</td>\n",
       "      <td>1</td>\n",
       "    </tr>\n",
       "    <tr>\n",
       "      <th>FAC</th>\n",
       "      <td>0</td>\n",
       "      <td>1</td>\n",
       "      <td>0</td>\n",
       "      <td>0</td>\n",
       "      <td>0</td>\n",
       "      <td>0</td>\n",
       "      <td>0</td>\n",
       "      <td>1</td>\n",
       "      <td>0</td>\n",
       "      <td>0</td>\n",
       "    </tr>\n",
       "    <tr>\n",
       "      <th>GPE</th>\n",
       "      <td>0</td>\n",
       "      <td>0</td>\n",
       "      <td>0</td>\n",
       "      <td>0</td>\n",
       "      <td>0</td>\n",
       "      <td>0</td>\n",
       "      <td>1</td>\n",
       "      <td>0</td>\n",
       "      <td>1</td>\n",
       "      <td>1</td>\n",
       "    </tr>\n",
       "    <tr>\n",
       "      <th>LOC</th>\n",
       "      <td>0</td>\n",
       "      <td>0</td>\n",
       "      <td>0</td>\n",
       "      <td>0</td>\n",
       "      <td>0</td>\n",
       "      <td>0</td>\n",
       "      <td>1</td>\n",
       "      <td>0</td>\n",
       "      <td>0</td>\n",
       "      <td>0</td>\n",
       "    </tr>\n",
       "    <tr>\n",
       "      <th>NORP</th>\n",
       "      <td>0</td>\n",
       "      <td>0</td>\n",
       "      <td>0</td>\n",
       "      <td>0</td>\n",
       "      <td>1</td>\n",
       "      <td>0</td>\n",
       "      <td>0</td>\n",
       "      <td>0</td>\n",
       "      <td>0</td>\n",
       "      <td>0</td>\n",
       "    </tr>\n",
       "    <tr>\n",
       "      <th>PERSON</th>\n",
       "      <td>0</td>\n",
       "      <td>0</td>\n",
       "      <td>0</td>\n",
       "      <td>0</td>\n",
       "      <td>0</td>\n",
       "      <td>2</td>\n",
       "      <td>0</td>\n",
       "      <td>0</td>\n",
       "      <td>1</td>\n",
       "      <td>0</td>\n",
       "    </tr>\n",
       "    <tr>\n",
       "      <th>What is</th>\n",
       "      <td>0</td>\n",
       "      <td>0</td>\n",
       "      <td>1</td>\n",
       "      <td>1</td>\n",
       "      <td>0</td>\n",
       "      <td>0</td>\n",
       "      <td>0</td>\n",
       "      <td>0</td>\n",
       "      <td>0</td>\n",
       "      <td>0</td>\n",
       "    </tr>\n",
       "    <tr>\n",
       "      <th>What sits</th>\n",
       "      <td>0</td>\n",
       "      <td>1</td>\n",
       "      <td>0</td>\n",
       "      <td>0</td>\n",
       "      <td>0</td>\n",
       "      <td>0</td>\n",
       "      <td>0</td>\n",
       "      <td>0</td>\n",
       "      <td>0</td>\n",
       "      <td>0</td>\n",
       "    </tr>\n",
       "    <tr>\n",
       "      <th>Which structure</th>\n",
       "      <td>0</td>\n",
       "      <td>0</td>\n",
       "      <td>1</td>\n",
       "      <td>0</td>\n",
       "      <td>0</td>\n",
       "      <td>1</td>\n",
       "      <td>0</td>\n",
       "      <td>0</td>\n",
       "      <td>0</td>\n",
       "      <td>0</td>\n",
       "    </tr>\n",
       "    <tr>\n",
       "      <th>Whom did</th>\n",
       "      <td>1</td>\n",
       "      <td>0</td>\n",
       "      <td>1</td>\n",
       "      <td>0</td>\n",
       "      <td>0</td>\n",
       "      <td>0</td>\n",
       "      <td>0</td>\n",
       "      <td>0</td>\n",
       "      <td>0</td>\n",
       "      <td>0</td>\n",
       "    </tr>\n",
       "  </tbody>\n",
       "</table>\n",
       "</div>"
      ],
      "text/plain": [
       "                 DATE  FAC  GPE  LOC  NORP  PERSON  What is  What sits  \\\n",
       "DATE                0    0    0    0     0       0        0          0   \n",
       "FAC                 0    1    0    0     0       0        0          1   \n",
       "GPE                 0    0    0    0     0       0        1          0   \n",
       "LOC                 0    0    0    0     0       0        1          0   \n",
       "NORP                0    0    0    0     1       0        0          0   \n",
       "PERSON              0    0    0    0     0       2        0          0   \n",
       "What is             0    0    1    1     0       0        0          0   \n",
       "What sits           0    1    0    0     0       0        0          0   \n",
       "Which structure     0    0    1    0     0       1        0          0   \n",
       "Whom did            1    0    1    0     0       0        0          0   \n",
       "\n",
       "                 Which structure  Whom did  \n",
       "DATE                           0         1  \n",
       "FAC                            0         0  \n",
       "GPE                            1         1  \n",
       "LOC                            0         0  \n",
       "NORP                           0         0  \n",
       "PERSON                         1         0  \n",
       "What is                        0         0  \n",
       "What sits                      0         0  \n",
       "Which structure                0         0  \n",
       "Whom did                       0         0  "
      ]
     },
     "execution_count": 1754,
     "metadata": {},
     "output_type": "execute_result"
    }
   ],
   "source": [
    "co_occ_matrix = pd.DataFrame(table,index = varnames,columns = varnames)\n",
    "co_occ_matrix"
   ]
  },
  {
   "cell_type": "markdown",
   "metadata": {},
   "source": [
    "###################################################################################################################"
   ]
  },
  {
   "cell_type": "markdown",
   "metadata": {},
   "source": [
    "##### Select answer sentence from text ##### "
   ]
  },
  {
   "cell_type": "markdown",
   "metadata": {},
   "source": [
    "* Count the common words between \"Question sentence\" and each \"sentence\""
   ]
  },
  {
   "cell_type": "code",
   "execution_count": 1755,
   "metadata": {
    "collapsed": true
   },
   "outputs": [],
   "source": [
    "l2 = [] \n",
    "for i in range(len(Question_list)):\n",
    "    l2.append(nltk.word_tokenize(Question_list[i])) "
   ]
  },
  {
   "cell_type": "code",
   "execution_count": 1756,
   "metadata": {},
   "outputs": [],
   "source": [
    "lower_qn_list = []\n",
    "for i in range(len(l2)):\n",
    "    lower = ([x.lower() for x in l2[i]])\n",
    "    lower_qn_list.append(lower) "
   ]
  },
  {
   "cell_type": "code",
   "execution_count": 1757,
   "metadata": {},
   "outputs": [],
   "source": [
    "mn = np.zeros([len(lower_qn_list),len(sentence_list)])"
   ]
  },
  {
   "cell_type": "code",
   "execution_count": null,
   "metadata": {},
   "outputs": [],
   "source": []
  },
  {
   "cell_type": "code",
   "execution_count": 1758,
   "metadata": {},
   "outputs": [
    {
     "data": {
      "text/plain": [
       "array([[ 0.,  0.,  0.,  0.,  0.,  0.,  0.],\n",
       "       [ 0.,  0.,  0.,  0.,  0.,  0.,  0.],\n",
       "       [ 0.,  0.,  0.,  0.,  0.,  0.,  0.],\n",
       "       [ 0.,  0.,  0.,  0.,  0.,  0.,  0.],\n",
       "       [ 0.,  0.,  0.,  0.,  0.,  0.,  0.]])"
      ]
     },
     "execution_count": 1758,
     "metadata": {},
     "output_type": "execute_result"
    }
   ],
   "source": [
    "mn"
   ]
  },
  {
   "cell_type": "code",
   "execution_count": 1759,
   "metadata": {},
   "outputs": [],
   "source": [
    "for i in range(len(lower_qn_list)):\n",
    "    for j in range(len(sentence_list)):\n",
    "        \n",
    "        mn[i,j] = len(set(sentence_list[j][0])&set(lower_qn_list[i])) \n",
    "        "
   ]
  },
  {
   "cell_type": "code",
   "execution_count": 1760,
   "metadata": {},
   "outputs": [
    {
     "data": {
      "text/plain": [
       "array([[ 0.,  2.,  0.,  0.,  0.,  5.,  1.],\n",
       "       [ 0.,  2.,  3.,  2.,  0.,  0.,  1.],\n",
       "       [ 0.,  0.,  0.,  3.,  1.,  0.,  0.],\n",
       "       [ 0.,  0.,  0.,  0.,  1.,  1.,  0.],\n",
       "       [ 0.,  2.,  2.,  2.,  0.,  0.,  1.]])"
      ]
     },
     "execution_count": 1760,
     "metadata": {},
     "output_type": "execute_result"
    }
   ],
   "source": [
    "mn"
   ]
  },
  {
   "cell_type": "code",
   "execution_count": 1761,
   "metadata": {},
   "outputs": [
    {
     "data": {
      "text/html": [
       "<div>\n",
       "<style>\n",
       "    .dataframe thead tr:only-child th {\n",
       "        text-align: right;\n",
       "    }\n",
       "\n",
       "    .dataframe thead th {\n",
       "        text-align: left;\n",
       "    }\n",
       "\n",
       "    .dataframe tbody tr th {\n",
       "        vertical-align: top;\n",
       "    }\n",
       "</style>\n",
       "<table border=\"1\" class=\"dataframe\">\n",
       "  <thead>\n",
       "    <tr style=\"text-align: right;\">\n",
       "      <th></th>\n",
       "      <th>S1</th>\n",
       "      <th>S2</th>\n",
       "      <th>S3</th>\n",
       "      <th>S4</th>\n",
       "      <th>S5</th>\n",
       "      <th>S6</th>\n",
       "      <th>S7</th>\n",
       "    </tr>\n",
       "  </thead>\n",
       "  <tbody>\n",
       "    <tr>\n",
       "      <th>Q1</th>\n",
       "      <td>0.0</td>\n",
       "      <td>2.0</td>\n",
       "      <td>0.0</td>\n",
       "      <td>0.0</td>\n",
       "      <td>0.0</td>\n",
       "      <td>5.0</td>\n",
       "      <td>1.0</td>\n",
       "    </tr>\n",
       "    <tr>\n",
       "      <th>Q2</th>\n",
       "      <td>0.0</td>\n",
       "      <td>2.0</td>\n",
       "      <td>3.0</td>\n",
       "      <td>2.0</td>\n",
       "      <td>0.0</td>\n",
       "      <td>0.0</td>\n",
       "      <td>1.0</td>\n",
       "    </tr>\n",
       "    <tr>\n",
       "      <th>Q3</th>\n",
       "      <td>0.0</td>\n",
       "      <td>0.0</td>\n",
       "      <td>0.0</td>\n",
       "      <td>3.0</td>\n",
       "      <td>1.0</td>\n",
       "      <td>0.0</td>\n",
       "      <td>0.0</td>\n",
       "    </tr>\n",
       "    <tr>\n",
       "      <th>Q4</th>\n",
       "      <td>0.0</td>\n",
       "      <td>0.0</td>\n",
       "      <td>0.0</td>\n",
       "      <td>0.0</td>\n",
       "      <td>1.0</td>\n",
       "      <td>1.0</td>\n",
       "      <td>0.0</td>\n",
       "    </tr>\n",
       "    <tr>\n",
       "      <th>Q5</th>\n",
       "      <td>0.0</td>\n",
       "      <td>2.0</td>\n",
       "      <td>2.0</td>\n",
       "      <td>2.0</td>\n",
       "      <td>0.0</td>\n",
       "      <td>0.0</td>\n",
       "      <td>1.0</td>\n",
       "    </tr>\n",
       "  </tbody>\n",
       "</table>\n",
       "</div>"
      ],
      "text/plain": [
       "     S1   S2   S3   S4   S5   S6   S7\n",
       "Q1  0.0  2.0  0.0  0.0  0.0  5.0  1.0\n",
       "Q2  0.0  2.0  3.0  2.0  0.0  0.0  1.0\n",
       "Q3  0.0  0.0  0.0  3.0  1.0  0.0  0.0\n",
       "Q4  0.0  0.0  0.0  0.0  1.0  1.0  0.0\n",
       "Q5  0.0  2.0  2.0  2.0  0.0  0.0  1.0"
      ]
     },
     "execution_count": 1761,
     "metadata": {},
     "output_type": "execute_result"
    }
   ],
   "source": [
    "pd.DataFrame(mn, index = ['Q1','Q2','Q3','Q4','Q5'],columns = ['S1','S2','S3','S4','S5','S6','S7'])  "
   ]
  },
  {
   "cell_type": "markdown",
   "metadata": {},
   "source": [
    "###################################################################################################################"
   ]
  },
  {
   "cell_type": "markdown",
   "metadata": {},
   "source": [
    "#################################################################################################################"
   ]
  },
  {
   "cell_type": "markdown",
   "metadata": {},
   "source": [
    "###### PART -II #####"
   ]
  },
  {
   "cell_type": "markdown",
   "metadata": {},
   "source": [
    "##### Word move Distance for extracting Answer sentence from the text #####"
   ]
  },
  {
   "cell_type": "code",
   "execution_count": 1762,
   "metadata": {
    "collapsed": true
   },
   "outputs": [],
   "source": [
    "import gensim"
   ]
  },
  {
   "cell_type": "code",
   "execution_count": 1763,
   "metadata": {},
   "outputs": [],
   "source": [
    "word2vec_model = gensim.models.KeyedVectors.load_word2vec_format('/home/anjana/Downloads/GoogleNews-vectors-negative300.bin', binary=True)\n"
   ]
  },
  {
   "cell_type": "markdown",
   "metadata": {},
   "source": [
    "##### Construction of word move distance matrix #####"
   ]
  },
  {
   "cell_type": "code",
   "execution_count": 1867,
   "metadata": {},
   "outputs": [
    {
     "data": {
      "text/plain": [
       "['Architecturally, the school has a Catholic character.',\n",
       " \"Atop the Main Building's gold dome is a golden statue of the Virgin Mary.\",\n",
       " 'Immediately in front of the Main Building and facing it, is a copper statue of Christ with arms upraised with the legend \"Venite Ad Me Omnes\".',\n",
       " 'Next to the Main Building is the Basilica of the Sacred Heart.',\n",
       " 'Immediately behind the basilica is the Grotto, a Marian place of prayer and reflection.',\n",
       " 'It is a replica of the grotto at Lourdes, France where the Virgin Mary reputedly appeared to Saint Bernadette Soubirous in 1858.',\n",
       " 'At the end of the main drive (and in a direct line that connects through 3 statues and the Gold Dome), is a simple, modern stone statue of Mary.']"
      ]
     },
     "execution_count": 1867,
     "metadata": {},
     "output_type": "execute_result"
    }
   ],
   "source": [
    "\n",
    "senttokenized_context"
   ]
  },
  {
   "cell_type": "code",
   "execution_count": 1845,
   "metadata": {},
   "outputs": [],
   "source": [
    "wmd_matrix = np.zeros([len(stopwords_removed_qn),len(sentence_list)]) \n",
    "for i in range(len(question_list)):\n",
    "    for j in range(len(senttokenized_context)):\n",
    "        wmd_matrix[i,j] =  word2vec_model.wmdistance(question_list[i],senttokenized_context[j])  \n"
   ]
  },
  {
   "cell_type": "code",
   "execution_count": 1838,
   "metadata": {
    "collapsed": true
   },
   "outputs": [],
   "source": [
    "#l1 = ['my','name','kamal']\n",
    "#l2 = ['what','your','name']"
   ]
  },
  {
   "cell_type": "code",
   "execution_count": 1839,
   "metadata": {},
   "outputs": [
    {
     "data": {
      "text/plain": [
       "1.835050617499866"
      ]
     },
     "execution_count": 1839,
     "metadata": {},
     "output_type": "execute_result"
    }
   ],
   "source": [
    "#word2vec_model.wmdistance(l1,l2)"
   ]
  },
  {
   "cell_type": "code",
   "execution_count": 1870,
   "metadata": {},
   "outputs": [
    {
     "data": {
      "text/plain": [
       "['To Whom did the Virgin Mary allegedly appear in 1858 in Lourdes France?',\n",
       " 'What is in front of the Notre Dame Main Building?',\n",
       " 'The Basilica of the Sacred heart at Notre Dame is beside to Which structure?',\n",
       " 'What is the Grotto at Notre Dame?',\n",
       " 'What sits on top of the Main Building at Notre Dame?']"
      ]
     },
     "execution_count": 1870,
     "metadata": {},
     "output_type": "execute_result"
    }
   ],
   "source": [
    "(Question_list)\n"
   ]
  },
  {
   "cell_type": "code",
   "execution_count": 1878,
   "metadata": {},
   "outputs": [
    {
     "data": {
      "text/plain": [
       "\"Atop the Main Building's gold dome is a golden statue of the Virgin Mary.\""
      ]
     },
     "execution_count": 1878,
     "metadata": {},
     "output_type": "execute_result"
    }
   ],
   "source": [
    "(senttokenized_context)[1]"
   ]
  },
  {
   "cell_type": "markdown",
   "metadata": {},
   "source": [
    "##### Word mover  distance for each question across all sentences #####\n",
    "\n",
    "* Rows indicates question number and column represents sentence number "
   ]
  },
  {
   "cell_type": "code",
   "execution_count": 1847,
   "metadata": {},
   "outputs": [],
   "source": [
    "wmd_df = pd.DataFrame(wmd_matrix) "
   ]
  },
  {
   "cell_type": "code",
   "execution_count": 1848,
   "metadata": {},
   "outputs": [
    {
     "data": {
      "text/html": [
       "<div>\n",
       "<style>\n",
       "    .dataframe thead tr:only-child th {\n",
       "        text-align: right;\n",
       "    }\n",
       "\n",
       "    .dataframe thead th {\n",
       "        text-align: left;\n",
       "    }\n",
       "\n",
       "    .dataframe tbody tr th {\n",
       "        vertical-align: top;\n",
       "    }\n",
       "</style>\n",
       "<table border=\"1\" class=\"dataframe\">\n",
       "  <thead>\n",
       "    <tr style=\"text-align: right;\">\n",
       "      <th></th>\n",
       "      <th>0</th>\n",
       "      <th>1</th>\n",
       "      <th>2</th>\n",
       "      <th>3</th>\n",
       "      <th>4</th>\n",
       "      <th>5</th>\n",
       "      <th>6</th>\n",
       "    </tr>\n",
       "  </thead>\n",
       "  <tbody>\n",
       "    <tr>\n",
       "      <th>0</th>\n",
       "      <td>1.457169</td>\n",
       "      <td>0.820655</td>\n",
       "      <td>0.836534</td>\n",
       "      <td>1.152992</td>\n",
       "      <td>0.860193</td>\n",
       "      <td>0.735679</td>\n",
       "      <td>1.038286</td>\n",
       "    </tr>\n",
       "    <tr>\n",
       "      <th>1</th>\n",
       "      <td>1.292572</td>\n",
       "      <td>0.700907</td>\n",
       "      <td>0.679206</td>\n",
       "      <td>0.712126</td>\n",
       "      <td>0.913442</td>\n",
       "      <td>0.997967</td>\n",
       "      <td>0.808790</td>\n",
       "    </tr>\n",
       "    <tr>\n",
       "      <th>2</th>\n",
       "      <td>0.981157</td>\n",
       "      <td>1.083013</td>\n",
       "      <td>0.857523</td>\n",
       "      <td>0.696536</td>\n",
       "      <td>0.810384</td>\n",
       "      <td>0.790951</td>\n",
       "      <td>0.756276</td>\n",
       "    </tr>\n",
       "    <tr>\n",
       "      <th>3</th>\n",
       "      <td>1.371955</td>\n",
       "      <td>1.487275</td>\n",
       "      <td>1.380331</td>\n",
       "      <td>1.241890</td>\n",
       "      <td>1.283002</td>\n",
       "      <td>1.352330</td>\n",
       "      <td>1.096544</td>\n",
       "    </tr>\n",
       "    <tr>\n",
       "      <th>4</th>\n",
       "      <td>1.276870</td>\n",
       "      <td>0.637092</td>\n",
       "      <td>0.688399</td>\n",
       "      <td>0.744689</td>\n",
       "      <td>0.948388</td>\n",
       "      <td>0.991351</td>\n",
       "      <td>0.743846</td>\n",
       "    </tr>\n",
       "  </tbody>\n",
       "</table>\n",
       "</div>"
      ],
      "text/plain": [
       "          0         1         2         3         4         5         6\n",
       "0  1.457169  0.820655  0.836534  1.152992  0.860193  0.735679  1.038286\n",
       "1  1.292572  0.700907  0.679206  0.712126  0.913442  0.997967  0.808790\n",
       "2  0.981157  1.083013  0.857523  0.696536  0.810384  0.790951  0.756276\n",
       "3  1.371955  1.487275  1.380331  1.241890  1.283002  1.352330  1.096544\n",
       "4  1.276870  0.637092  0.688399  0.744689  0.948388  0.991351  0.743846"
      ]
     },
     "execution_count": 1848,
     "metadata": {},
     "output_type": "execute_result"
    }
   ],
   "source": [
    "wmd_df"
   ]
  },
  {
   "cell_type": "markdown",
   "metadata": {},
   "source": [
    "##### Add a new column 'sentence' indicating the answer sentence ##### "
   ]
  },
  {
   "cell_type": "code",
   "execution_count": 1849,
   "metadata": {},
   "outputs": [],
   "source": [
    "wmd_df['sentence'] = wmd_df.T.idxmin()\n"
   ]
  },
  {
   "cell_type": "code",
   "execution_count": 1850,
   "metadata": {},
   "outputs": [
    {
     "data": {
      "text/html": [
       "<div>\n",
       "<style>\n",
       "    .dataframe thead tr:only-child th {\n",
       "        text-align: right;\n",
       "    }\n",
       "\n",
       "    .dataframe thead th {\n",
       "        text-align: left;\n",
       "    }\n",
       "\n",
       "    .dataframe tbody tr th {\n",
       "        vertical-align: top;\n",
       "    }\n",
       "</style>\n",
       "<table border=\"1\" class=\"dataframe\">\n",
       "  <thead>\n",
       "    <tr style=\"text-align: right;\">\n",
       "      <th></th>\n",
       "      <th>0</th>\n",
       "      <th>1</th>\n",
       "      <th>2</th>\n",
       "      <th>3</th>\n",
       "      <th>4</th>\n",
       "      <th>5</th>\n",
       "      <th>6</th>\n",
       "      <th>sentence</th>\n",
       "    </tr>\n",
       "  </thead>\n",
       "  <tbody>\n",
       "    <tr>\n",
       "      <th>0</th>\n",
       "      <td>1.457169</td>\n",
       "      <td>0.820655</td>\n",
       "      <td>0.836534</td>\n",
       "      <td>1.152992</td>\n",
       "      <td>0.860193</td>\n",
       "      <td>0.735679</td>\n",
       "      <td>1.038286</td>\n",
       "      <td>5</td>\n",
       "    </tr>\n",
       "    <tr>\n",
       "      <th>1</th>\n",
       "      <td>1.292572</td>\n",
       "      <td>0.700907</td>\n",
       "      <td>0.679206</td>\n",
       "      <td>0.712126</td>\n",
       "      <td>0.913442</td>\n",
       "      <td>0.997967</td>\n",
       "      <td>0.808790</td>\n",
       "      <td>2</td>\n",
       "    </tr>\n",
       "    <tr>\n",
       "      <th>2</th>\n",
       "      <td>0.981157</td>\n",
       "      <td>1.083013</td>\n",
       "      <td>0.857523</td>\n",
       "      <td>0.696536</td>\n",
       "      <td>0.810384</td>\n",
       "      <td>0.790951</td>\n",
       "      <td>0.756276</td>\n",
       "      <td>3</td>\n",
       "    </tr>\n",
       "    <tr>\n",
       "      <th>3</th>\n",
       "      <td>1.371955</td>\n",
       "      <td>1.487275</td>\n",
       "      <td>1.380331</td>\n",
       "      <td>1.241890</td>\n",
       "      <td>1.283002</td>\n",
       "      <td>1.352330</td>\n",
       "      <td>1.096544</td>\n",
       "      <td>6</td>\n",
       "    </tr>\n",
       "    <tr>\n",
       "      <th>4</th>\n",
       "      <td>1.276870</td>\n",
       "      <td>0.637092</td>\n",
       "      <td>0.688399</td>\n",
       "      <td>0.744689</td>\n",
       "      <td>0.948388</td>\n",
       "      <td>0.991351</td>\n",
       "      <td>0.743846</td>\n",
       "      <td>1</td>\n",
       "    </tr>\n",
       "  </tbody>\n",
       "</table>\n",
       "</div>"
      ],
      "text/plain": [
       "          0         1         2         3         4         5         6  \\\n",
       "0  1.457169  0.820655  0.836534  1.152992  0.860193  0.735679  1.038286   \n",
       "1  1.292572  0.700907  0.679206  0.712126  0.913442  0.997967  0.808790   \n",
       "2  0.981157  1.083013  0.857523  0.696536  0.810384  0.790951  0.756276   \n",
       "3  1.371955  1.487275  1.380331  1.241890  1.283002  1.352330  1.096544   \n",
       "4  1.276870  0.637092  0.688399  0.744689  0.948388  0.991351  0.743846   \n",
       "\n",
       "   sentence  \n",
       "0         5  \n",
       "1         2  \n",
       "2         3  \n",
       "3         6  \n",
       "4         1  "
      ]
     },
     "execution_count": 1850,
     "metadata": {},
     "output_type": "execute_result"
    }
   ],
   "source": [
    "wmd_df "
   ]
  },
  {
   "cell_type": "markdown",
   "metadata": {},
   "source": [
    "##### Mapping \"Question and Answers\"  #####"
   ]
  },
  {
   "cell_type": "code",
   "execution_count": 1851,
   "metadata": {},
   "outputs": [],
   "source": [
    "qn_sentence = []\n",
    "for i in range(len(qn_ans)):\n",
    "    if qn_ans[i][0] == question_list.index(question_list[i]):\n",
    "        qn_sentence.append(unicode(question_list[i],\"utf-8\")) \n",
    "an_sentence = []\n",
    "for i in range(len(qn_ans)):\n",
    "    for j in range(len(senttokenized_context)):\n",
    "        if qn_ans[i][1] == senttokenized_context.index(senttokenized_context[j]):\n",
    "            an_sentence.append(unicode(senttokenized_context[j],\"utf-8\")) \n",
    "\n",
    "            "
   ]
  },
  {
   "cell_type": "markdown",
   "metadata": {},
   "source": [
    "##### NER for \"Question sentence\"  and \"Answer sentence\" #####"
   ]
  },
  {
   "cell_type": "code",
   "execution_count": 1852,
   "metadata": {},
   "outputs": [],
   "source": [
    "an_sentence_mapping = []\n",
    "for i in range(len(an_sentence)):\n",
    "    doc = nlp(an_sentence[i])\n",
    "    for ent in doc.ents:\n",
    "        an_sentence_mapping.append([i,ent.label_])  "
   ]
  },
  {
   "cell_type": "code",
   "execution_count": 1853,
   "metadata": {
    "collapsed": true
   },
   "outputs": [],
   "source": [
    "qn_sentence_mapping = []\n",
    "for i in range(len(qn_sentence)):\n",
    "    doc = nlp(qn_sentence[i])\n",
    "    for ent in doc.ents:\n",
    "        qn_sentence_mapping.append([i,ent.label_])  "
   ]
  },
  {
   "cell_type": "code",
   "execution_count": null,
   "metadata": {},
   "outputs": [],
   "source": [
    "\n"
   ]
  },
  {
   "cell_type": "markdown",
   "metadata": {},
   "source": [
    "##### Editing  Question words #####\n",
    "\n",
    "- Remove stopwords like \"did\" ,\"is\", \"was\" from \"question words\"."
   ]
  },
  {
   "cell_type": "code",
   "execution_count": 1854,
   "metadata": {},
   "outputs": [],
   "source": [
    "#sample done on 0th context under the title notre dame\n",
    "Question_mapping = []\n",
    "for i in range(len(question_mapping)):\n",
    "    Question_mapping.append(question_mapping[i].split()[0])"
   ]
  },
  {
   "cell_type": "code",
   "execution_count": 1855,
   "metadata": {},
   "outputs": [
    {
     "data": {
      "text/plain": [
       "['Whom', 'What', 'Which', 'What', 'What']"
      ]
     },
     "execution_count": 1855,
     "metadata": {},
     "output_type": "execute_result"
    }
   ],
   "source": [
    "Question_mapping"
   ]
  },
  {
   "cell_type": "code",
   "execution_count": 1856,
   "metadata": {},
   "outputs": [],
   "source": [
    "Question_character_df = pd.DataFrame()\n",
    "qn_mapping = []\n",
    "for i in range(len(Question_no)):\n",
    "    for j in range(len(Question_mapping)):\n",
    "        if (Question_no[i]) == j:\n",
    "            qn_mapping.append(Question_mapping[j])\n",
    "\n",
    "\n",
    "Question_character_df['QuestionNO'] = Question_no\n",
    "Question_character_df['QuestionMapping'] = qn_mapping\n",
    "Question_character_df['Word'] = Qn_word\n",
    "Question_character_df['WordTag'] = Qn_tag\n"
   ]
  },
  {
   "cell_type": "markdown",
   "metadata": {},
   "source": [
    "#####  Create a co occurrence matrix #####"
   ]
  },
  {
   "cell_type": "code",
   "execution_count": 1857,
   "metadata": {
    "collapsed": true
   },
   "outputs": [],
   "source": [
    "row_list = ['How many','How much','What','When','Where','Who', 'Which','Whom','PERSON',\n",
    "           'NORP', 'FAC','LOC','PRODUCT', 'EVENT','WORK_OF_ART','LANGUAGE' ,'DATE' ,\n",
    "           'TIME' ,'PERCENT' ,'MONEY' ,'ORDINAL','CARDINAL','GPE']\n",
    "\n",
    "column_list = ['PERSON',\n",
    "           'NORP', 'FAC','LOC','PRODUCT', 'EVENT','WORK_OF_ART','LANGUAGE' ,'DATE' ,\n",
    "           'TIME' ,'PERCENT' ,'MONEY' ,'ORDINAL','CARDINAL','GPE'] "
   ]
  },
  {
   "cell_type": "code",
   "execution_count": 1858,
   "metadata": {},
   "outputs": [
    {
     "data": {
      "text/plain": [
       "array([[0, 0, 0, 0, 0, 0, 0, 0, 0, 0, 0, 0, 0, 0, 0],\n",
       "       [0, 0, 0, 0, 0, 0, 0, 0, 0, 0, 0, 0, 0, 0, 0],\n",
       "       [0, 0, 0, 0, 0, 0, 0, 0, 0, 0, 0, 0, 0, 0, 0],\n",
       "       [0, 0, 0, 0, 0, 0, 0, 0, 0, 0, 0, 0, 0, 0, 0],\n",
       "       [0, 0, 0, 0, 0, 0, 0, 0, 0, 0, 0, 0, 0, 0, 0],\n",
       "       [0, 0, 0, 0, 0, 0, 0, 0, 0, 0, 0, 0, 0, 0, 0],\n",
       "       [0, 0, 0, 0, 0, 0, 0, 0, 0, 0, 0, 0, 0, 0, 0],\n",
       "       [0, 0, 0, 0, 0, 0, 0, 0, 0, 0, 0, 0, 0, 0, 0],\n",
       "       [0, 0, 0, 0, 0, 0, 0, 0, 0, 0, 0, 0, 0, 0, 0],\n",
       "       [0, 0, 0, 0, 0, 0, 0, 0, 0, 0, 0, 0, 0, 0, 0],\n",
       "       [0, 0, 0, 0, 0, 0, 0, 0, 0, 0, 0, 0, 0, 0, 0],\n",
       "       [0, 0, 0, 0, 0, 0, 0, 0, 0, 0, 0, 0, 0, 0, 0],\n",
       "       [0, 0, 0, 0, 0, 0, 0, 0, 0, 0, 0, 0, 0, 0, 0],\n",
       "       [0, 0, 0, 0, 0, 0, 0, 0, 0, 0, 0, 0, 0, 0, 0],\n",
       "       [0, 0, 0, 0, 0, 0, 0, 0, 0, 0, 0, 0, 0, 0, 0],\n",
       "       [0, 0, 0, 0, 0, 0, 0, 0, 0, 0, 0, 0, 0, 0, 0],\n",
       "       [0, 0, 0, 0, 0, 0, 0, 0, 0, 0, 0, 0, 0, 0, 0],\n",
       "       [0, 0, 0, 0, 0, 0, 0, 0, 0, 0, 0, 0, 0, 0, 0],\n",
       "       [0, 0, 0, 0, 0, 0, 0, 0, 0, 0, 0, 0, 0, 0, 0],\n",
       "       [0, 0, 0, 0, 0, 0, 0, 0, 0, 0, 0, 0, 0, 0, 0],\n",
       "       [0, 0, 0, 0, 0, 0, 0, 0, 0, 0, 0, 0, 0, 0, 0],\n",
       "       [0, 0, 0, 0, 0, 0, 0, 0, 0, 0, 0, 0, 0, 0, 0],\n",
       "       [0, 0, 0, 0, 0, 0, 0, 0, 0, 0, 0, 0, 0, 0, 0]])"
      ]
     },
     "execution_count": 1858,
     "metadata": {},
     "output_type": "execute_result"
    }
   ],
   "source": [
    "co_occ_matrix = np.zeros((len(row_list), len(column_list)), dtype = int)\n",
    "co_occ_matrix"
   ]
  },
  {
   "cell_type": "markdown",
   "metadata": {},
   "source": [
    "##### Creating a list of lists with question-answer NER tag #####"
   ]
  },
  {
   "cell_type": "code",
   "execution_count": 1859,
   "metadata": {
    "collapsed": true
   },
   "outputs": [],
   "source": [
    "def que_ans_combo_(question_words, ans_words):\n",
    "    ques_ans_combo = []\n",
    "    for i in range(len(question_words)):\n",
    "        for j in range(len(ans_words)):\n",
    "            ques_ans_combo.append([question_words[i],ans_words[j]])\n",
    "    return(ques_ans_combo) "
   ]
  },
  {
   "cell_type": "markdown",
   "metadata": {},
   "source": [
    "##### Filling in the co occurrence matrix with corresponding count #####\n",
    "\n"
   ]
  },
  {
   "cell_type": "code",
   "execution_count": 1860,
   "metadata": {},
   "outputs": [
    {
     "data": {
      "text/html": [
       "<div>\n",
       "<style>\n",
       "    .dataframe thead tr:only-child th {\n",
       "        text-align: right;\n",
       "    }\n",
       "\n",
       "    .dataframe thead th {\n",
       "        text-align: left;\n",
       "    }\n",
       "\n",
       "    .dataframe tbody tr th {\n",
       "        vertical-align: top;\n",
       "    }\n",
       "</style>\n",
       "<table border=\"1\" class=\"dataframe\">\n",
       "  <thead>\n",
       "    <tr style=\"text-align: right;\">\n",
       "      <th></th>\n",
       "      <th>QuestionNo</th>\n",
       "      <th>WordTag</th>\n",
       "    </tr>\n",
       "  </thead>\n",
       "  <tbody>\n",
       "    <tr>\n",
       "      <th>0</th>\n",
       "      <td>0</td>\n",
       "      <td>GPE</td>\n",
       "    </tr>\n",
       "    <tr>\n",
       "      <th>1</th>\n",
       "      <td>0</td>\n",
       "      <td>GPE</td>\n",
       "    </tr>\n",
       "    <tr>\n",
       "      <th>2</th>\n",
       "      <td>0</td>\n",
       "      <td>PERSON</td>\n",
       "    </tr>\n",
       "    <tr>\n",
       "      <th>3</th>\n",
       "      <td>0</td>\n",
       "      <td>PERSON</td>\n",
       "    </tr>\n",
       "    <tr>\n",
       "      <th>4</th>\n",
       "      <td>0</td>\n",
       "      <td>DATE</td>\n",
       "    </tr>\n",
       "  </tbody>\n",
       "</table>\n",
       "</div>"
      ],
      "text/plain": [
       "   QuestionNo WordTag\n",
       "0           0     GPE\n",
       "1           0     GPE\n",
       "2           0  PERSON\n",
       "3           0  PERSON\n",
       "4           0    DATE"
      ]
     },
     "execution_count": 1860,
     "metadata": {},
     "output_type": "execute_result"
    }
   ],
   "source": [
    "Answer_character_df = pd.DataFrame(an_sentence_mapping,columns = ['QuestionNo','WordTag'])\n",
    "Answer_character_df.head()"
   ]
  },
  {
   "cell_type": "code",
   "execution_count": 1861,
   "metadata": {},
   "outputs": [
    {
     "name": "stdout",
     "output_type": "stream",
     "text": [
      "[[u'DATE', u'GPE'], [u'DATE', u'GPE'], [u'DATE', u'PERSON'], [u'DATE', u'PERSON'], [u'DATE', u'DATE'], [u'GPE', u'GPE'], [u'GPE', u'GPE'], [u'GPE', u'PERSON'], [u'GPE', u'PERSON'], [u'GPE', u'DATE'], ['Whom', u'GPE'], ['Whom', u'GPE'], ['Whom', u'PERSON'], ['Whom', u'PERSON'], ['Whom', u'DATE']]\n",
      "[[u'LOC', u'FAC'], [u'LOC', u'PERSON'], [u'LOC', u'ORG'], ['What', u'FAC'], ['What', u'PERSON'], ['What', u'ORG']]\n",
      "[[u'PERSON', u'FAC'], [u'PERSON', u'PERSON'], [u'PERSON', u'ORG'], [u'GPE', u'FAC'], [u'GPE', u'PERSON'], [u'GPE', u'ORG'], ['Which', u'FAC'], ['Which', u'PERSON'], ['Which', u'ORG']]\n",
      "[[u'GPE', u'FAC'], [u'GPE', u'PERSON'], [u'GPE', u'ORG'], ['What', u'FAC'], ['What', u'PERSON'], ['What', u'ORG']]\n",
      "[[u'FAC', u'FAC'], [u'FAC', u'PERSON'], [u'FAC', u'ORG'], ['What', u'FAC'], ['What', u'PERSON'], ['What', u'ORG']]\n"
     ]
    }
   ],
   "source": [
    "\n",
    "for i in range(len(Question_mapping)):\n",
    "\n",
    "    question_words = Question_character_df[Question_character_df['QuestionNO']== i]['WordTag'].tolist() + [Question_mapping[i]] \n",
    "    ans_words = Answer_character_df[Answer_character_df['QuestionNo']==i]['WordTag'].tolist()\n",
    "    combo = que_ans_combo_(question_words, ans_words)\n",
    "    print(combo)\n",
    "    for i, v1 in enumerate(row_list):\n",
    "        for j, v2 in enumerate(column_list):\n",
    "            for k in combo:\n",
    "                if [v1, v2] == k:\n",
    "                    co_occ_matrix[i, j]+=1\n",
    "    #                     co_occ_matrix_df = pd.DataFrame(co_occ_matrix, index = row_list, columns= column_list)\n"
   ]
  },
  {
   "cell_type": "code",
   "execution_count": 1862,
   "metadata": {},
   "outputs": [
    {
     "name": "stdout",
     "output_type": "stream",
     "text": [
      "[[0, u'DATE'], [0, u'GPE'], [1, u'LOC'], [2, u'PERSON'], [2, u'GPE'], [3, u'GPE'], [4, u'FAC']]\n",
      "[[0, u'GPE'], [0, u'GPE'], [0, u'PERSON'], [0, u'PERSON'], [0, u'DATE'], [1, u'FAC'], [1, u'PERSON'], [1, u'ORG'], [2, u'FAC'], [2, u'PERSON'], [2, u'ORG'], [3, u'FAC'], [3, u'PERSON'], [3, u'ORG'], [4, u'FAC'], [4, u'PERSON'], [4, u'ORG']]\n",
      "['Whom', 'What', 'Which', 'What', 'What']\n"
     ]
    }
   ],
   "source": [
    "print(qn_sentence_mapping)\n",
    "print(an_sentence_mapping)\n",
    "print(Question_mapping)"
   ]
  },
  {
   "cell_type": "markdown",
   "metadata": {},
   "source": [
    "\n",
    "##### Co occurrence matrix for the   Zeroth  context under the title Notre dame  #####\n",
    "##### Row corresponds to \"Question\" type and NER tags #####\n",
    "##### Column corresponds to \"Answer\" NER #####"
   ]
  },
  {
   "cell_type": "code",
   "execution_count": 1863,
   "metadata": {},
   "outputs": [
    {
     "data": {
      "text/html": [
       "<div>\n",
       "<style>\n",
       "    .dataframe thead tr:only-child th {\n",
       "        text-align: right;\n",
       "    }\n",
       "\n",
       "    .dataframe thead th {\n",
       "        text-align: left;\n",
       "    }\n",
       "\n",
       "    .dataframe tbody tr th {\n",
       "        vertical-align: top;\n",
       "    }\n",
       "</style>\n",
       "<table border=\"1\" class=\"dataframe\">\n",
       "  <thead>\n",
       "    <tr style=\"text-align: right;\">\n",
       "      <th></th>\n",
       "      <th>PERSON</th>\n",
       "      <th>NORP</th>\n",
       "      <th>FAC</th>\n",
       "      <th>LOC</th>\n",
       "      <th>PRODUCT</th>\n",
       "      <th>EVENT</th>\n",
       "      <th>WORK_OF_ART</th>\n",
       "      <th>LANGUAGE</th>\n",
       "      <th>DATE</th>\n",
       "      <th>TIME</th>\n",
       "      <th>PERCENT</th>\n",
       "      <th>MONEY</th>\n",
       "      <th>ORDINAL</th>\n",
       "      <th>CARDINAL</th>\n",
       "      <th>GPE</th>\n",
       "    </tr>\n",
       "  </thead>\n",
       "  <tbody>\n",
       "    <tr>\n",
       "      <th>How many</th>\n",
       "      <td>0</td>\n",
       "      <td>0</td>\n",
       "      <td>0</td>\n",
       "      <td>0</td>\n",
       "      <td>0</td>\n",
       "      <td>0</td>\n",
       "      <td>0</td>\n",
       "      <td>0</td>\n",
       "      <td>0</td>\n",
       "      <td>0</td>\n",
       "      <td>0</td>\n",
       "      <td>0</td>\n",
       "      <td>0</td>\n",
       "      <td>0</td>\n",
       "      <td>0</td>\n",
       "    </tr>\n",
       "    <tr>\n",
       "      <th>How much</th>\n",
       "      <td>0</td>\n",
       "      <td>0</td>\n",
       "      <td>0</td>\n",
       "      <td>0</td>\n",
       "      <td>0</td>\n",
       "      <td>0</td>\n",
       "      <td>0</td>\n",
       "      <td>0</td>\n",
       "      <td>0</td>\n",
       "      <td>0</td>\n",
       "      <td>0</td>\n",
       "      <td>0</td>\n",
       "      <td>0</td>\n",
       "      <td>0</td>\n",
       "      <td>0</td>\n",
       "    </tr>\n",
       "    <tr>\n",
       "      <th>What</th>\n",
       "      <td>3</td>\n",
       "      <td>0</td>\n",
       "      <td>3</td>\n",
       "      <td>0</td>\n",
       "      <td>0</td>\n",
       "      <td>0</td>\n",
       "      <td>0</td>\n",
       "      <td>0</td>\n",
       "      <td>0</td>\n",
       "      <td>0</td>\n",
       "      <td>0</td>\n",
       "      <td>0</td>\n",
       "      <td>0</td>\n",
       "      <td>0</td>\n",
       "      <td>0</td>\n",
       "    </tr>\n",
       "    <tr>\n",
       "      <th>When</th>\n",
       "      <td>0</td>\n",
       "      <td>0</td>\n",
       "      <td>0</td>\n",
       "      <td>0</td>\n",
       "      <td>0</td>\n",
       "      <td>0</td>\n",
       "      <td>0</td>\n",
       "      <td>0</td>\n",
       "      <td>0</td>\n",
       "      <td>0</td>\n",
       "      <td>0</td>\n",
       "      <td>0</td>\n",
       "      <td>0</td>\n",
       "      <td>0</td>\n",
       "      <td>0</td>\n",
       "    </tr>\n",
       "    <tr>\n",
       "      <th>Where</th>\n",
       "      <td>0</td>\n",
       "      <td>0</td>\n",
       "      <td>0</td>\n",
       "      <td>0</td>\n",
       "      <td>0</td>\n",
       "      <td>0</td>\n",
       "      <td>0</td>\n",
       "      <td>0</td>\n",
       "      <td>0</td>\n",
       "      <td>0</td>\n",
       "      <td>0</td>\n",
       "      <td>0</td>\n",
       "      <td>0</td>\n",
       "      <td>0</td>\n",
       "      <td>0</td>\n",
       "    </tr>\n",
       "    <tr>\n",
       "      <th>Who</th>\n",
       "      <td>0</td>\n",
       "      <td>0</td>\n",
       "      <td>0</td>\n",
       "      <td>0</td>\n",
       "      <td>0</td>\n",
       "      <td>0</td>\n",
       "      <td>0</td>\n",
       "      <td>0</td>\n",
       "      <td>0</td>\n",
       "      <td>0</td>\n",
       "      <td>0</td>\n",
       "      <td>0</td>\n",
       "      <td>0</td>\n",
       "      <td>0</td>\n",
       "      <td>0</td>\n",
       "    </tr>\n",
       "    <tr>\n",
       "      <th>Which</th>\n",
       "      <td>1</td>\n",
       "      <td>0</td>\n",
       "      <td>1</td>\n",
       "      <td>0</td>\n",
       "      <td>0</td>\n",
       "      <td>0</td>\n",
       "      <td>0</td>\n",
       "      <td>0</td>\n",
       "      <td>0</td>\n",
       "      <td>0</td>\n",
       "      <td>0</td>\n",
       "      <td>0</td>\n",
       "      <td>0</td>\n",
       "      <td>0</td>\n",
       "      <td>0</td>\n",
       "    </tr>\n",
       "    <tr>\n",
       "      <th>Whom</th>\n",
       "      <td>2</td>\n",
       "      <td>0</td>\n",
       "      <td>0</td>\n",
       "      <td>0</td>\n",
       "      <td>0</td>\n",
       "      <td>0</td>\n",
       "      <td>0</td>\n",
       "      <td>0</td>\n",
       "      <td>1</td>\n",
       "      <td>0</td>\n",
       "      <td>0</td>\n",
       "      <td>0</td>\n",
       "      <td>0</td>\n",
       "      <td>0</td>\n",
       "      <td>2</td>\n",
       "    </tr>\n",
       "    <tr>\n",
       "      <th>PERSON</th>\n",
       "      <td>1</td>\n",
       "      <td>0</td>\n",
       "      <td>1</td>\n",
       "      <td>0</td>\n",
       "      <td>0</td>\n",
       "      <td>0</td>\n",
       "      <td>0</td>\n",
       "      <td>0</td>\n",
       "      <td>0</td>\n",
       "      <td>0</td>\n",
       "      <td>0</td>\n",
       "      <td>0</td>\n",
       "      <td>0</td>\n",
       "      <td>0</td>\n",
       "      <td>0</td>\n",
       "    </tr>\n",
       "    <tr>\n",
       "      <th>NORP</th>\n",
       "      <td>0</td>\n",
       "      <td>0</td>\n",
       "      <td>0</td>\n",
       "      <td>0</td>\n",
       "      <td>0</td>\n",
       "      <td>0</td>\n",
       "      <td>0</td>\n",
       "      <td>0</td>\n",
       "      <td>0</td>\n",
       "      <td>0</td>\n",
       "      <td>0</td>\n",
       "      <td>0</td>\n",
       "      <td>0</td>\n",
       "      <td>0</td>\n",
       "      <td>0</td>\n",
       "    </tr>\n",
       "    <tr>\n",
       "      <th>FAC</th>\n",
       "      <td>1</td>\n",
       "      <td>0</td>\n",
       "      <td>1</td>\n",
       "      <td>0</td>\n",
       "      <td>0</td>\n",
       "      <td>0</td>\n",
       "      <td>0</td>\n",
       "      <td>0</td>\n",
       "      <td>0</td>\n",
       "      <td>0</td>\n",
       "      <td>0</td>\n",
       "      <td>0</td>\n",
       "      <td>0</td>\n",
       "      <td>0</td>\n",
       "      <td>0</td>\n",
       "    </tr>\n",
       "    <tr>\n",
       "      <th>LOC</th>\n",
       "      <td>1</td>\n",
       "      <td>0</td>\n",
       "      <td>1</td>\n",
       "      <td>0</td>\n",
       "      <td>0</td>\n",
       "      <td>0</td>\n",
       "      <td>0</td>\n",
       "      <td>0</td>\n",
       "      <td>0</td>\n",
       "      <td>0</td>\n",
       "      <td>0</td>\n",
       "      <td>0</td>\n",
       "      <td>0</td>\n",
       "      <td>0</td>\n",
       "      <td>0</td>\n",
       "    </tr>\n",
       "    <tr>\n",
       "      <th>PRODUCT</th>\n",
       "      <td>0</td>\n",
       "      <td>0</td>\n",
       "      <td>0</td>\n",
       "      <td>0</td>\n",
       "      <td>0</td>\n",
       "      <td>0</td>\n",
       "      <td>0</td>\n",
       "      <td>0</td>\n",
       "      <td>0</td>\n",
       "      <td>0</td>\n",
       "      <td>0</td>\n",
       "      <td>0</td>\n",
       "      <td>0</td>\n",
       "      <td>0</td>\n",
       "      <td>0</td>\n",
       "    </tr>\n",
       "    <tr>\n",
       "      <th>EVENT</th>\n",
       "      <td>0</td>\n",
       "      <td>0</td>\n",
       "      <td>0</td>\n",
       "      <td>0</td>\n",
       "      <td>0</td>\n",
       "      <td>0</td>\n",
       "      <td>0</td>\n",
       "      <td>0</td>\n",
       "      <td>0</td>\n",
       "      <td>0</td>\n",
       "      <td>0</td>\n",
       "      <td>0</td>\n",
       "      <td>0</td>\n",
       "      <td>0</td>\n",
       "      <td>0</td>\n",
       "    </tr>\n",
       "    <tr>\n",
       "      <th>WORK_OF_ART</th>\n",
       "      <td>0</td>\n",
       "      <td>0</td>\n",
       "      <td>0</td>\n",
       "      <td>0</td>\n",
       "      <td>0</td>\n",
       "      <td>0</td>\n",
       "      <td>0</td>\n",
       "      <td>0</td>\n",
       "      <td>0</td>\n",
       "      <td>0</td>\n",
       "      <td>0</td>\n",
       "      <td>0</td>\n",
       "      <td>0</td>\n",
       "      <td>0</td>\n",
       "      <td>0</td>\n",
       "    </tr>\n",
       "    <tr>\n",
       "      <th>LANGUAGE</th>\n",
       "      <td>0</td>\n",
       "      <td>0</td>\n",
       "      <td>0</td>\n",
       "      <td>0</td>\n",
       "      <td>0</td>\n",
       "      <td>0</td>\n",
       "      <td>0</td>\n",
       "      <td>0</td>\n",
       "      <td>0</td>\n",
       "      <td>0</td>\n",
       "      <td>0</td>\n",
       "      <td>0</td>\n",
       "      <td>0</td>\n",
       "      <td>0</td>\n",
       "      <td>0</td>\n",
       "    </tr>\n",
       "    <tr>\n",
       "      <th>DATE</th>\n",
       "      <td>2</td>\n",
       "      <td>0</td>\n",
       "      <td>0</td>\n",
       "      <td>0</td>\n",
       "      <td>0</td>\n",
       "      <td>0</td>\n",
       "      <td>0</td>\n",
       "      <td>0</td>\n",
       "      <td>1</td>\n",
       "      <td>0</td>\n",
       "      <td>0</td>\n",
       "      <td>0</td>\n",
       "      <td>0</td>\n",
       "      <td>0</td>\n",
       "      <td>2</td>\n",
       "    </tr>\n",
       "    <tr>\n",
       "      <th>TIME</th>\n",
       "      <td>0</td>\n",
       "      <td>0</td>\n",
       "      <td>0</td>\n",
       "      <td>0</td>\n",
       "      <td>0</td>\n",
       "      <td>0</td>\n",
       "      <td>0</td>\n",
       "      <td>0</td>\n",
       "      <td>0</td>\n",
       "      <td>0</td>\n",
       "      <td>0</td>\n",
       "      <td>0</td>\n",
       "      <td>0</td>\n",
       "      <td>0</td>\n",
       "      <td>0</td>\n",
       "    </tr>\n",
       "    <tr>\n",
       "      <th>PERCENT</th>\n",
       "      <td>0</td>\n",
       "      <td>0</td>\n",
       "      <td>0</td>\n",
       "      <td>0</td>\n",
       "      <td>0</td>\n",
       "      <td>0</td>\n",
       "      <td>0</td>\n",
       "      <td>0</td>\n",
       "      <td>0</td>\n",
       "      <td>0</td>\n",
       "      <td>0</td>\n",
       "      <td>0</td>\n",
       "      <td>0</td>\n",
       "      <td>0</td>\n",
       "      <td>0</td>\n",
       "    </tr>\n",
       "    <tr>\n",
       "      <th>MONEY</th>\n",
       "      <td>0</td>\n",
       "      <td>0</td>\n",
       "      <td>0</td>\n",
       "      <td>0</td>\n",
       "      <td>0</td>\n",
       "      <td>0</td>\n",
       "      <td>0</td>\n",
       "      <td>0</td>\n",
       "      <td>0</td>\n",
       "      <td>0</td>\n",
       "      <td>0</td>\n",
       "      <td>0</td>\n",
       "      <td>0</td>\n",
       "      <td>0</td>\n",
       "      <td>0</td>\n",
       "    </tr>\n",
       "    <tr>\n",
       "      <th>ORDINAL</th>\n",
       "      <td>0</td>\n",
       "      <td>0</td>\n",
       "      <td>0</td>\n",
       "      <td>0</td>\n",
       "      <td>0</td>\n",
       "      <td>0</td>\n",
       "      <td>0</td>\n",
       "      <td>0</td>\n",
       "      <td>0</td>\n",
       "      <td>0</td>\n",
       "      <td>0</td>\n",
       "      <td>0</td>\n",
       "      <td>0</td>\n",
       "      <td>0</td>\n",
       "      <td>0</td>\n",
       "    </tr>\n",
       "    <tr>\n",
       "      <th>CARDINAL</th>\n",
       "      <td>0</td>\n",
       "      <td>0</td>\n",
       "      <td>0</td>\n",
       "      <td>0</td>\n",
       "      <td>0</td>\n",
       "      <td>0</td>\n",
       "      <td>0</td>\n",
       "      <td>0</td>\n",
       "      <td>0</td>\n",
       "      <td>0</td>\n",
       "      <td>0</td>\n",
       "      <td>0</td>\n",
       "      <td>0</td>\n",
       "      <td>0</td>\n",
       "      <td>0</td>\n",
       "    </tr>\n",
       "    <tr>\n",
       "      <th>GPE</th>\n",
       "      <td>4</td>\n",
       "      <td>0</td>\n",
       "      <td>2</td>\n",
       "      <td>0</td>\n",
       "      <td>0</td>\n",
       "      <td>0</td>\n",
       "      <td>0</td>\n",
       "      <td>0</td>\n",
       "      <td>1</td>\n",
       "      <td>0</td>\n",
       "      <td>0</td>\n",
       "      <td>0</td>\n",
       "      <td>0</td>\n",
       "      <td>0</td>\n",
       "      <td>2</td>\n",
       "    </tr>\n",
       "  </tbody>\n",
       "</table>\n",
       "</div>"
      ],
      "text/plain": [
       "             PERSON  NORP  FAC  LOC  PRODUCT  EVENT  WORK_OF_ART  LANGUAGE  \\\n",
       "How many          0     0    0    0        0      0            0         0   \n",
       "How much          0     0    0    0        0      0            0         0   \n",
       "What              3     0    3    0        0      0            0         0   \n",
       "When              0     0    0    0        0      0            0         0   \n",
       "Where             0     0    0    0        0      0            0         0   \n",
       "Who               0     0    0    0        0      0            0         0   \n",
       "Which             1     0    1    0        0      0            0         0   \n",
       "Whom              2     0    0    0        0      0            0         0   \n",
       "PERSON            1     0    1    0        0      0            0         0   \n",
       "NORP              0     0    0    0        0      0            0         0   \n",
       "FAC               1     0    1    0        0      0            0         0   \n",
       "LOC               1     0    1    0        0      0            0         0   \n",
       "PRODUCT           0     0    0    0        0      0            0         0   \n",
       "EVENT             0     0    0    0        0      0            0         0   \n",
       "WORK_OF_ART       0     0    0    0        0      0            0         0   \n",
       "LANGUAGE          0     0    0    0        0      0            0         0   \n",
       "DATE              2     0    0    0        0      0            0         0   \n",
       "TIME              0     0    0    0        0      0            0         0   \n",
       "PERCENT           0     0    0    0        0      0            0         0   \n",
       "MONEY             0     0    0    0        0      0            0         0   \n",
       "ORDINAL           0     0    0    0        0      0            0         0   \n",
       "CARDINAL          0     0    0    0        0      0            0         0   \n",
       "GPE               4     0    2    0        0      0            0         0   \n",
       "\n",
       "             DATE  TIME  PERCENT  MONEY  ORDINAL  CARDINAL  GPE  \n",
       "How many        0     0        0      0        0         0    0  \n",
       "How much        0     0        0      0        0         0    0  \n",
       "What            0     0        0      0        0         0    0  \n",
       "When            0     0        0      0        0         0    0  \n",
       "Where           0     0        0      0        0         0    0  \n",
       "Who             0     0        0      0        0         0    0  \n",
       "Which           0     0        0      0        0         0    0  \n",
       "Whom            1     0        0      0        0         0    2  \n",
       "PERSON          0     0        0      0        0         0    0  \n",
       "NORP            0     0        0      0        0         0    0  \n",
       "FAC             0     0        0      0        0         0    0  \n",
       "LOC             0     0        0      0        0         0    0  \n",
       "PRODUCT         0     0        0      0        0         0    0  \n",
       "EVENT           0     0        0      0        0         0    0  \n",
       "WORK_OF_ART     0     0        0      0        0         0    0  \n",
       "LANGUAGE        0     0        0      0        0         0    0  \n",
       "DATE            1     0        0      0        0         0    2  \n",
       "TIME            0     0        0      0        0         0    0  \n",
       "PERCENT         0     0        0      0        0         0    0  \n",
       "MONEY           0     0        0      0        0         0    0  \n",
       "ORDINAL         0     0        0      0        0         0    0  \n",
       "CARDINAL        0     0        0      0        0         0    0  \n",
       "GPE             1     0        0      0        0         0    2  "
      ]
     },
     "execution_count": 1863,
     "metadata": {},
     "output_type": "execute_result"
    }
   ],
   "source": [
    "co_occ_matrix_df = pd.DataFrame(co_occ_matrix, index = row_list, columns= column_list)\n",
    "co_occ_matrix_df"
   ]
  },
  {
   "cell_type": "markdown",
   "metadata": {},
   "source": [
    "##### Graphical representation of co occurrence matrix #####"
   ]
  },
  {
   "cell_type": "code",
   "execution_count": 1864,
   "metadata": {},
   "outputs": [],
   "source": [
    "co_occ_matrix_df['Tags'] = co_occ_matrix_df.index\n"
   ]
  },
  {
   "cell_type": "code",
   "execution_count": 1865,
   "metadata": {},
   "outputs": [
    {
     "data": {
      "text/html": [
       "<div>\n",
       "<style>\n",
       "    .dataframe thead tr:only-child th {\n",
       "        text-align: right;\n",
       "    }\n",
       "\n",
       "    .dataframe thead th {\n",
       "        text-align: left;\n",
       "    }\n",
       "\n",
       "    .dataframe tbody tr th {\n",
       "        vertical-align: top;\n",
       "    }\n",
       "</style>\n",
       "<table border=\"1\" class=\"dataframe\">\n",
       "  <thead>\n",
       "    <tr style=\"text-align: right;\">\n",
       "      <th></th>\n",
       "      <th>Tags</th>\n",
       "      <th>variable</th>\n",
       "      <th>value</th>\n",
       "    </tr>\n",
       "  </thead>\n",
       "  <tbody>\n",
       "    <tr>\n",
       "      <th>0</th>\n",
       "      <td>How many</td>\n",
       "      <td>PERSON</td>\n",
       "      <td>0</td>\n",
       "    </tr>\n",
       "    <tr>\n",
       "      <th>1</th>\n",
       "      <td>How much</td>\n",
       "      <td>PERSON</td>\n",
       "      <td>0</td>\n",
       "    </tr>\n",
       "    <tr>\n",
       "      <th>2</th>\n",
       "      <td>What</td>\n",
       "      <td>PERSON</td>\n",
       "      <td>3</td>\n",
       "    </tr>\n",
       "    <tr>\n",
       "      <th>3</th>\n",
       "      <td>When</td>\n",
       "      <td>PERSON</td>\n",
       "      <td>0</td>\n",
       "    </tr>\n",
       "    <tr>\n",
       "      <th>4</th>\n",
       "      <td>Where</td>\n",
       "      <td>PERSON</td>\n",
       "      <td>0</td>\n",
       "    </tr>\n",
       "  </tbody>\n",
       "</table>\n",
       "</div>"
      ],
      "text/plain": [
       "       Tags variable  value\n",
       "0  How many   PERSON      0\n",
       "1  How much   PERSON      0\n",
       "2      What   PERSON      3\n",
       "3      When   PERSON      0\n",
       "4     Where   PERSON      0"
      ]
     },
     "execution_count": 1865,
     "metadata": {},
     "output_type": "execute_result"
    }
   ],
   "source": [
    "melt_co_occ_matrix_df = pd.melt(co_occ_matrix_df,id_vars = ['Tags']) \n",
    "melt_co_occ_matrix_df.head()"
   ]
  },
  {
   "cell_type": "code",
   "execution_count": 1866,
   "metadata": {},
   "outputs": [
    {
     "data": {
      "text/html": [
       "<iframe id=\"igraph\" scrolling=\"no\" style=\"border:none;\" seamless=\"seamless\" src=\"https://plot.ly/~anjanapisharam/212.embed\" height=\"525px\" width=\"100%\"></iframe>"
      ],
      "text/plain": [
       "<plotly.tools.PlotlyDisplay object>"
      ]
     },
     "execution_count": 1866,
     "metadata": {},
     "output_type": "execute_result"
    }
   ],
   "source": [
    "import plotly.plotly as py\n",
    "import plotly.graph_objs as go\n",
    "\n",
    "trace = go.Heatmap(z=melt_co_occ_matrix_df['value'],\n",
    "                   x=melt_co_occ_matrix_df['Tags'] ,\n",
    "                   y=melt_co_occ_matrix_df['variable'])\n",
    "data=[trace]\n",
    "py.iplot(data)      "
   ]
  },
  {
   "cell_type": "code",
   "execution_count": null,
   "metadata": {
    "collapsed": true
   },
   "outputs": [],
   "source": []
  },
  {
   "cell_type": "code",
   "execution_count": null,
   "metadata": {
    "collapsed": true
   },
   "outputs": [],
   "source": []
  },
  {
   "cell_type": "code",
   "execution_count": null,
   "metadata": {
    "collapsed": true
   },
   "outputs": [],
   "source": []
  },
  {
   "cell_type": "code",
   "execution_count": null,
   "metadata": {
    "collapsed": true
   },
   "outputs": [],
   "source": []
  }
 ],
 "metadata": {
  "kernelspec": {
   "display_name": "Python 2",
   "language": "python",
   "name": "python2"
  },
  "language_info": {
   "codemirror_mode": {
    "name": "ipython",
    "version": 2
   },
   "file_extension": ".py",
   "mimetype": "text/x-python",
   "name": "python",
   "nbconvert_exporter": "python",
   "pygments_lexer": "ipython2",
   "version": "2.7.12"
  }
 },
 "nbformat": 4,
 "nbformat_minor": 2
}

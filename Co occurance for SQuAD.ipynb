{
 "cells": [
  {
   "cell_type": "code",
   "execution_count": 501,
   "metadata": {
    "collapsed": true
   },
   "outputs": [],
   "source": [
    "import pandas as pd\n",
    "import nltk\n",
    "from nltk.tokenize import word_tokenize, sent_tokenize\n",
    "from nltk.corpus import wordnet as wn\n",
    "from nltk.corpus import stopwords\n",
    "from nltk.tokenize import RegexpTokenizer\n",
    "from nltk.stem import WordNetLemmatizer\n",
    "import spacy\n",
    "import numpy as np\n",
    "from spacy.en import English\n",
    "import string\n",
    "import unicodedata\n",
    "\n",
    "from collections import Counter\n",
    "from itertools import chain\n",
    "\n",
    "parser = English()\n",
    "\n",
    "\n",
    "\n",
    "sqd_data = pd.read_json('/home/anjana/Downloads/train-v1.1.json') "
   ]
  },
  {
   "cell_type": "markdown",
   "metadata": {},
   "source": [
    "##### Prepare Stopwords list, question type mapping list, punctuation mark list #####"
   ]
  },
  {
   "cell_type": "code",
   "execution_count": 522,
   "metadata": {},
   "outputs": [],
   "source": [
    "stopword = stopwords.words('english')\n",
    "qtntype_list = ['What', 'When', 'Why', 'Which', 'Who','Whom', 'How']\n",
    "pun_list = list(string.punctuation)\n",
    "delelements_list = stopword + qtntype_list + pun_list\n",
    " "
   ]
  },
  {
   "cell_type": "markdown",
   "metadata": {},
   "source": [
    "##### Considering one matter from SQuAD data set - (Third matter) ##### "
   ]
  },
  {
   "cell_type": "code",
   "execution_count": 524,
   "metadata": {},
   "outputs": [
    {
     "data": {
      "text/plain": [
       "{u'context': u'The College of Engineering was established in 1920, however, early courses in civil and mechanical engineering were a part of the College of Science since the 1870s. Today the college, housed in the Fitzpatrick, Cushing, and Stinson-Remick Halls of Engineering, includes five departments of study \\u2013 aerospace and mechanical engineering, chemical and biomolecular engineering, civil engineering and geological sciences, computer science and engineering, and electrical engineering \\u2013 with eight B.S. degrees offered. Additionally, the college offers five-year dual degree programs with the Colleges of Arts and Letters and of Business awarding additional B.A. and Master of Business Administration (MBA) degrees, respectively.',\n",
       " u'qas': [{u'answers': [{u'answer_start': 487, u'text': u'eight'}],\n",
       "   u'id': u'5733a6424776f41900660f51',\n",
       "   u'question': u'How many BS level degrees are offered in the College of Engineering at Notre Dame?'},\n",
       "  {u'answers': [{u'answer_start': 46, u'text': u'1920'}],\n",
       "   u'id': u'5733a6424776f41900660f4e',\n",
       "   u'question': u'In what year was the College of Engineering at Notre Dame formed?'},\n",
       "  {u'answers': [{u'answer_start': 126, u'text': u'the College of Science'}],\n",
       "   u'id': u'5733a6424776f41900660f4f',\n",
       "   u'question': u'Before the creation of the College of Engineering similar studies were carried out at which Notre Dame college?'},\n",
       "  {u'answers': [{u'answer_start': 271, u'text': u'five'}],\n",
       "   u'id': u'5733a6424776f41900660f50',\n",
       "   u'question': u'How many departments are within the Stinson-Remick Hall of Engineering?'},\n",
       "  {u'answers': [{u'answer_start': 155, u'text': u'the 1870s'}],\n",
       "   u'id': u'5733a6424776f41900660f52',\n",
       "   u'question': u'The College of Science began to offer civil engineering courses beginning at what time at Notre Dame?'}]}"
      ]
     },
     "execution_count": 524,
     "metadata": {},
     "output_type": "execute_result"
    }
   ],
   "source": [
    "matter = sqd_data.data[0]['paragraphs'][3] \n",
    "matter"
   ]
  },
  {
   "cell_type": "markdown",
   "metadata": {},
   "source": [
    "##### Extraction of  context #####"
   ]
  },
  {
   "cell_type": "code",
   "execution_count": 525,
   "metadata": {},
   "outputs": [
    {
     "data": {
      "text/plain": [
       "'The College of Engineering was established in 1920, however, early courses in civil and mechanical engineering were a part of the College of Science since the 1870s. Today the college, housed in the Fitzpatrick, Cushing, and Stinson-Remick Halls of Engineering, includes five departments of study  aerospace and mechanical engineering, chemical and biomolecular engineering, civil engineering and geological sciences, computer science and engineering, and electrical engineering  with eight B.S. degrees offered. Additionally, the college offers five-year dual degree programs with the Colleges of Arts and Letters and of Business awarding additional B.A. and Master of Business Administration (MBA) degrees, respectively.'"
      ]
     },
     "execution_count": 525,
     "metadata": {},
     "output_type": "execute_result"
    }
   ],
   "source": [
    "context = sqd_data.data[0]['paragraphs'][3]['context'] \n",
    "context = unicodedata.normalize('NFKD', context).encode('ascii','ignore')\n",
    "context\n"
   ]
  },
  {
   "cell_type": "markdown",
   "metadata": {},
   "source": [
    "##### Context pre processing ##### "
   ]
  },
  {
   "cell_type": "markdown",
   "metadata": {},
   "source": [
    "###### Sentence tokenization of the context #####"
   ]
  },
  {
   "cell_type": "code",
   "execution_count": 526,
   "metadata": {
    "collapsed": true
   },
   "outputs": [],
   "source": [
    "senttokenized_context = sent_tokenize(context)\n",
    "sentencelist = []\n",
    "for i in senttokenized_context:\n",
    "      sentencelist.append(i) "
   ]
  },
  {
   "cell_type": "code",
   "execution_count": 527,
   "metadata": {},
   "outputs": [
    {
     "data": {
      "text/plain": [
       "['The College of Engineering was established in 1920, however, early courses in civil and mechanical engineering were a part of the College of Science since the 1870s.',\n",
       " 'Today the college, housed in the Fitzpatrick, Cushing, and Stinson-Remick Halls of Engineering, includes five departments of study  aerospace and mechanical engineering, chemical and biomolecular engineering, civil engineering and geological sciences, computer science and engineering, and electrical engineering  with eight B.S.',\n",
       " 'degrees offered.',\n",
       " 'Additionally, the college offers five-year dual degree programs with the Colleges of Arts and Letters and of Business awarding additional B.A.',\n",
       " 'and Master of Business Administration (MBA) degrees, respectively.']"
      ]
     },
     "execution_count": 527,
     "metadata": {},
     "output_type": "execute_result"
    }
   ],
   "source": [
    "senttokenized_context"
   ]
  },
  {
   "cell_type": "markdown",
   "metadata": {},
   "source": [
    "##### Word tokenization, Lemmatisation, stop word removal #####"
   ]
  },
  {
   "cell_type": "code",
   "execution_count": 528,
   "metadata": {
    "collapsed": true
   },
   "outputs": [],
   "source": [
    "sentence_list = []\n",
    "lemmatizer = WordNetLemmatizer()\n",
    "\n",
    "\n",
    "for i in sentencelist:\n",
    "    words = nltk.word_tokenize(i)\n",
    "    words = ([x.lower() for x in words])\n",
    "    words = ([x for x in words if x not in stopword])\n",
    "    words = [lemmatizer.lemmatize(x) for x in words]\n",
    "    words = [[s.encode('ascii') for s in words]]\n",
    "    sentence_list.append(words)\n",
    "\n",
    "    "
   ]
  },
  {
   "cell_type": "code",
   "execution_count": null,
   "metadata": {
    "collapsed": true
   },
   "outputs": [],
   "source": []
  },
  {
   "cell_type": "markdown",
   "metadata": {},
   "source": [
    "##### Questions list ##### "
   ]
  },
  {
   "cell_type": "code",
   "execution_count": 628,
   "metadata": {},
   "outputs": [],
   "source": [
    "question_list = []\n",
    "for i in range(len(sqd_data.data[0]['paragraphs'][3]['qas'])): \n",
    "    l1 = sqd_data.data[0]['paragraphs'][3]['qas'][i]['question'] \n",
    "    l1 = unicodedata.normalize('NFKD', l1).encode('ascii','ignore')\n",
    "\n",
    "    question_list.append(l1) "
   ]
  },
  {
   "cell_type": "code",
   "execution_count": 629,
   "metadata": {},
   "outputs": [
    {
     "data": {
      "text/plain": [
       "'How many BS level degrees are offered in the College of Engineering at Notre Dame?'"
      ]
     },
     "execution_count": 629,
     "metadata": {},
     "output_type": "execute_result"
    }
   ],
   "source": [
    "question_list[0] "
   ]
  },
  {
   "cell_type": "markdown",
   "metadata": {},
   "source": [
    "* Keeping question's first word in upper case "
   ]
  },
  {
   "cell_type": "code",
   "execution_count": 630,
   "metadata": {
    "collapsed": true
   },
   "outputs": [],
   "source": [
    "import re\n",
    "\n",
    "def replace_all(repls, str):\n",
    "    # return re.sub('|'.join(repls.keys()), lambda k: repls[k.group(0)], str)                                     \n",
    "    return re.sub('|'.join(re.escape(key) for key in repls.keys()),\n",
    "                  lambda k: repls[k.group(0)], str)     "
   ]
  },
  {
   "cell_type": "code",
   "execution_count": 631,
   "metadata": {},
   "outputs": [],
   "source": [
    "Question_list = []\n",
    "for i in range(len(question_list)): \n",
    "      Question_list.append(replace_all({\"how\": \"How\", \"when\": \"When\",\"what\": \"What\",\"whom\": \"Whom\",\"which\": \"Which\"}, question_list[i]) \n",
    "                          )"
   ]
  },
  {
   "cell_type": "code",
   "execution_count": 632,
   "metadata": {},
   "outputs": [
    {
     "data": {
      "text/plain": [
       "['How many BS level degrees are offered in the College of Engineering at Notre Dame?',\n",
       " 'In What year was the College of Engineering at Notre Dame formed?',\n",
       " 'Before the creation of the College of Engineering similar studies were carried out at Which Notre Dame college?',\n",
       " 'How many departments are within the Stinson-Remick Hall of Engineering?',\n",
       " 'The College of Science began to offer civil engineering courses beginning at What time at Notre Dame?']"
      ]
     },
     "execution_count": 632,
     "metadata": {},
     "output_type": "execute_result"
    }
   ],
   "source": [
    "Question_list"
   ]
  },
  {
   "cell_type": "markdown",
   "metadata": {},
   "source": [
    "##### Mapping of questions #####"
   ]
  },
  {
   "cell_type": "code",
   "execution_count": 633,
   "metadata": {
    "scrolled": false
   },
   "outputs": [],
   "source": [
    "question_mapping= []\n",
    "delquestionpart_list = []\n",
    "\n",
    "for i in range(len(Question_list)):\n",
    "    l2 = nltk.word_tokenize(Question_list[i])\n",
    "    for i in range(len(l2)):\n",
    "        if l2[i] in qtntype_list:\n",
    "                combine_list = l2[i]+\" \"+l2[i+1]\n",
    "                remove_list = combine_list.split() \n",
    "                l3 = [x for x in l2 if x not in remove_list]\n",
    "                question_mapping.append(combine_list) \n",
    "                delquestionpart_list.append(l3) "
   ]
  },
  {
   "cell_type": "code",
   "execution_count": 634,
   "metadata": {},
   "outputs": [
    {
     "data": {
      "text/plain": [
       "['How many', 'What year', 'Which Notre', 'How many', 'What time']"
      ]
     },
     "execution_count": 634,
     "metadata": {},
     "output_type": "execute_result"
    }
   ],
   "source": [
    "question_mapping"
   ]
  },
  {
   "cell_type": "markdown",
   "metadata": {},
   "source": [
    "##### Converting question sentence into 'unicode' structure for NER #####"
   ]
  },
  {
   "cell_type": "code",
   "execution_count": 635,
   "metadata": {},
   "outputs": [],
   "source": [
    "joined_delquestionpart_list =  []\n",
    "for i in range(len(delquestionpart_list)):\n",
    "        joined_question = unicode(\" \".join(delquestionpart_list[i]),\"utf-8\") \n",
    "        joined_delquestionpart_list.append(joined_question) "
   ]
  },
  {
   "cell_type": "code",
   "execution_count": 636,
   "metadata": {},
   "outputs": [
    {
     "data": {
      "text/plain": [
       "[u'BS level degrees are offered in the College of Engineering at Notre Dame ?',\n",
       " u'In was the College of Engineering at Notre Dame formed ?',\n",
       " u'Before the creation of the College of Engineering similar studies were carried out at Dame college ?',\n",
       " u'departments are within the Stinson-Remick Hall of Engineering ?',\n",
       " u'The College of Science began to offer civil engineering courses beginning at at Notre Dame ?']"
      ]
     },
     "execution_count": 636,
     "metadata": {},
     "output_type": "execute_result"
    }
   ],
   "source": [
    "joined_delquestionpart_list\n"
   ]
  },
  {
   "cell_type": "code",
   "execution_count": 637,
   "metadata": {},
   "outputs": [],
   "source": [
    "import spacy\n",
    "nlp = spacy.load('en')\n",
    "\n",
    "qn_ner_mapping = []\n",
    "for i in range(len(joined_delquestionpart_list)):\n",
    "    doc = nlp(joined_delquestionpart_list[i])\n",
    "    for ent in doc.ents:\n",
    "        qn_ner_mapping.append([i,ent.text,ent.label_])  "
   ]
  },
  {
   "cell_type": "code",
   "execution_count": 638,
   "metadata": {},
   "outputs": [
    {
     "data": {
      "text/plain": [
       "[[0, u'the College of Engineering', u'ORG'],\n",
       " [0, u'Notre Dame', u'GPE'],\n",
       " [1, u'the College of Engineering', u'ORG'],\n",
       " [1, u'Notre Dame', u'GPE'],\n",
       " [2, u'the College of Engineering', u'ORG'],\n",
       " [2, u'Dame', u'GPE'],\n",
       " [3, u'Stinson', u'PERSON'],\n",
       " [4, u'The College of Science', u'ORG'],\n",
       " [4, u'Notre Dame', u'GPE']]"
      ]
     },
     "execution_count": 638,
     "metadata": {},
     "output_type": "execute_result"
    }
   ],
   "source": [
    "qn_ner_mapping"
   ]
  },
  {
   "cell_type": "markdown",
   "metadata": {},
   "source": [
    "##### Data frame for QUESTION mapping #####"
   ]
  },
  {
   "cell_type": "code",
   "execution_count": 639,
   "metadata": {
    "collapsed": true
   },
   "outputs": [],
   "source": [
    "Question_no = []\n",
    "Qn_word = [] \n",
    "Qn_tag = []\n",
    "for i in range(len(qn_ner_mapping)):\n",
    "    Question_no.append(qn_ner_mapping[i][0])\n",
    "    Qn_word.append(qn_ner_mapping[i][1])\n",
    "    Qn_tag.append(qn_ner_mapping[i][2])\n",
    "     "
   ]
  },
  {
   "cell_type": "code",
   "execution_count": 640,
   "metadata": {},
   "outputs": [
    {
     "data": {
      "text/plain": [
       "['How many', 'What year', 'Which Notre', 'How many', 'What time']"
      ]
     },
     "execution_count": 640,
     "metadata": {},
     "output_type": "execute_result"
    }
   ],
   "source": [
    "question_mapping"
   ]
  },
  {
   "cell_type": "code",
   "execution_count": 641,
   "metadata": {},
   "outputs": [
    {
     "name": "stdout",
     "output_type": "stream",
     "text": [
      "0\n",
      "1\n",
      "2\n",
      "0\n",
      "4\n"
     ]
    }
   ],
   "source": [
    "for i in range(len(question_mapping)):\n",
    "    df = question_mapping.index(question_mapping[i])\n",
    "    print(df)"
   ]
  },
  {
   "cell_type": "code",
   "execution_count": 642,
   "metadata": {},
   "outputs": [],
   "source": [
    "Question_character_df = pd.DataFrame()\n",
    "qn_mapping = []\n",
    "for i in range(len(Question_no)):\n",
    "    for j in range(len(question_mapping)):\n",
    "        if (Question_no[i]) == j:\n",
    "            qn_mapping.append(question_mapping[j])\n",
    "\n",
    "\n",
    "Question_character_df['QuestionNO'] = Question_no\n",
    "Question_character_df['QuestionMapping'] = qn_mapping \n",
    "Question_character_df['Word'] = Qn_word\n",
    "Question_character_df['WordTag'] = Qn_tag\n"
   ]
  },
  {
   "cell_type": "markdown",
   "metadata": {},
   "source": [
    "##### Question - mapping #####"
   ]
  },
  {
   "cell_type": "code",
   "execution_count": 643,
   "metadata": {},
   "outputs": [
    {
     "data": {
      "text/html": [
       "<div>\n",
       "<style>\n",
       "    .dataframe thead tr:only-child th {\n",
       "        text-align: right;\n",
       "    }\n",
       "\n",
       "    .dataframe thead th {\n",
       "        text-align: left;\n",
       "    }\n",
       "\n",
       "    .dataframe tbody tr th {\n",
       "        vertical-align: top;\n",
       "    }\n",
       "</style>\n",
       "<table border=\"1\" class=\"dataframe\">\n",
       "  <thead>\n",
       "    <tr style=\"text-align: right;\">\n",
       "      <th></th>\n",
       "      <th>QuestionNO</th>\n",
       "      <th>QuestionMapping</th>\n",
       "      <th>Word</th>\n",
       "      <th>WordTag</th>\n",
       "    </tr>\n",
       "  </thead>\n",
       "  <tbody>\n",
       "    <tr>\n",
       "      <th>0</th>\n",
       "      <td>0</td>\n",
       "      <td>How many</td>\n",
       "      <td>the College of Engineering</td>\n",
       "      <td>ORG</td>\n",
       "    </tr>\n",
       "    <tr>\n",
       "      <th>1</th>\n",
       "      <td>0</td>\n",
       "      <td>How many</td>\n",
       "      <td>Notre Dame</td>\n",
       "      <td>GPE</td>\n",
       "    </tr>\n",
       "    <tr>\n",
       "      <th>2</th>\n",
       "      <td>1</td>\n",
       "      <td>What year</td>\n",
       "      <td>the College of Engineering</td>\n",
       "      <td>ORG</td>\n",
       "    </tr>\n",
       "    <tr>\n",
       "      <th>3</th>\n",
       "      <td>1</td>\n",
       "      <td>What year</td>\n",
       "      <td>Notre Dame</td>\n",
       "      <td>GPE</td>\n",
       "    </tr>\n",
       "    <tr>\n",
       "      <th>4</th>\n",
       "      <td>2</td>\n",
       "      <td>Which Notre</td>\n",
       "      <td>the College of Engineering</td>\n",
       "      <td>ORG</td>\n",
       "    </tr>\n",
       "    <tr>\n",
       "      <th>5</th>\n",
       "      <td>2</td>\n",
       "      <td>Which Notre</td>\n",
       "      <td>Dame</td>\n",
       "      <td>GPE</td>\n",
       "    </tr>\n",
       "    <tr>\n",
       "      <th>6</th>\n",
       "      <td>3</td>\n",
       "      <td>How many</td>\n",
       "      <td>Stinson</td>\n",
       "      <td>PERSON</td>\n",
       "    </tr>\n",
       "    <tr>\n",
       "      <th>7</th>\n",
       "      <td>4</td>\n",
       "      <td>What time</td>\n",
       "      <td>The College of Science</td>\n",
       "      <td>ORG</td>\n",
       "    </tr>\n",
       "    <tr>\n",
       "      <th>8</th>\n",
       "      <td>4</td>\n",
       "      <td>What time</td>\n",
       "      <td>Notre Dame</td>\n",
       "      <td>GPE</td>\n",
       "    </tr>\n",
       "  </tbody>\n",
       "</table>\n",
       "</div>"
      ],
      "text/plain": [
       "   QuestionNO QuestionMapping                        Word WordTag\n",
       "0           0        How many  the College of Engineering     ORG\n",
       "1           0        How many                  Notre Dame     GPE\n",
       "2           1       What year  the College of Engineering     ORG\n",
       "3           1       What year                  Notre Dame     GPE\n",
       "4           2     Which Notre  the College of Engineering     ORG\n",
       "5           2     Which Notre                        Dame     GPE\n",
       "6           3        How many                     Stinson  PERSON\n",
       "7           4       What time      The College of Science     ORG\n",
       "8           4       What time                  Notre Dame     GPE"
      ]
     },
     "execution_count": 643,
     "metadata": {},
     "output_type": "execute_result"
    }
   ],
   "source": [
    "Question_character_df"
   ]
  },
  {
   "cell_type": "markdown",
   "metadata": {},
   "source": [
    "################################################################################################################"
   ]
  },
  {
   "cell_type": "markdown",
   "metadata": {},
   "source": [
    "##### Context preprocessing ##### "
   ]
  },
  {
   "cell_type": "code",
   "execution_count": 644,
   "metadata": {},
   "outputs": [
    {
     "data": {
      "text/plain": [
       "'The College of Engineering was established in 1920, however, early courses in civil and mechanical engineering were a part of the College of Science since the 1870s. Today the college, housed in the Fitzpatrick, Cushing, and Stinson-Remick Halls of Engineering, includes five departments of study  aerospace and mechanical engineering, chemical and biomolecular engineering, civil engineering and geological sciences, computer science and engineering, and electrical engineering  with eight B.S. degrees offered. Additionally, the college offers five-year dual degree programs with the Colleges of Arts and Letters and of Business awarding additional B.A. and Master of Business Administration (MBA) degrees, respectively.'"
      ]
     },
     "execution_count": 644,
     "metadata": {},
     "output_type": "execute_result"
    }
   ],
   "source": [
    "context = sqd_data.data[0]['paragraphs'][3]['context'] \n",
    "context = unicodedata.normalize('NFKD', context).encode('ascii','ignore')\n",
    "context"
   ]
  },
  {
   "cell_type": "markdown",
   "metadata": {},
   "source": [
    "##### Sentence tokenization #####"
   ]
  },
  {
   "cell_type": "code",
   "execution_count": 645,
   "metadata": {},
   "outputs": [],
   "source": [
    "senttokenized_context = sent_tokenize(context)\n",
    "sentencelist = []\n",
    "for i in senttokenized_context:\n",
    "      sentencelist.append(i) "
   ]
  },
  {
   "cell_type": "code",
   "execution_count": 646,
   "metadata": {},
   "outputs": [
    {
     "data": {
      "text/plain": [
       "['The College of Engineering was established in 1920, however, early courses in civil and mechanical engineering were a part of the College of Science since the 1870s.',\n",
       " 'Today the college, housed in the Fitzpatrick, Cushing, and Stinson-Remick Halls of Engineering, includes five departments of study  aerospace and mechanical engineering, chemical and biomolecular engineering, civil engineering and geological sciences, computer science and engineering, and electrical engineering  with eight B.S.',\n",
       " 'degrees offered.',\n",
       " 'Additionally, the college offers five-year dual degree programs with the Colleges of Arts and Letters and of Business awarding additional B.A.',\n",
       " 'and Master of Business Administration (MBA) degrees, respectively.']"
      ]
     },
     "execution_count": 646,
     "metadata": {},
     "output_type": "execute_result"
    }
   ],
   "source": [
    "senttokenized_context"
   ]
  },
  {
   "cell_type": "code",
   "execution_count": 647,
   "metadata": {},
   "outputs": [],
   "source": [
    "contextword_list = []\n",
    "lemmatizer = WordNetLemmatizer()\n",
    "\n",
    " \n",
    "for i in sentencelist:\n",
    "    words = nltk.word_tokenize(i)\n",
    "    #words = ([x.lower() for x in words])\n",
    "    words = ([x for x in words if x not in stopword])\n",
    "    words = [lemmatizer.lemmatize(x) for x in words]\n",
    "    words = [[s.encode('ascii') for s in words]]\n",
    "    contextword_list.append(words)\n",
    "\n",
    "    "
   ]
  },
  {
   "cell_type": "code",
   "execution_count": 558,
   "metadata": {},
   "outputs": [
    {
     "data": {
      "text/plain": [
       "[['The',\n",
       "  'College',\n",
       "  'Engineering',\n",
       "  'established',\n",
       "  '1920',\n",
       "  ',',\n",
       "  'however',\n",
       "  ',',\n",
       "  'early',\n",
       "  'course',\n",
       "  'civil',\n",
       "  'mechanical',\n",
       "  'engineering',\n",
       "  'part',\n",
       "  'College',\n",
       "  'Science',\n",
       "  'since',\n",
       "  '1870s',\n",
       "  '.']]"
      ]
     },
     "execution_count": 558,
     "metadata": {},
     "output_type": "execute_result"
    }
   ],
   "source": [
    "contextword_list[0]"
   ]
  },
  {
   "cell_type": "markdown",
   "metadata": {},
   "source": [
    "##### Extracting answer words #####"
   ]
  },
  {
   "cell_type": "code",
   "execution_count": 648,
   "metadata": {},
   "outputs": [],
   "source": [
    "ans_list = []\n",
    "for i in range(len(sqd_data.data[0]['paragraphs'][3]['qas'])): \n",
    "    l1 = sqd_data.data[0]['paragraphs'][3]['qas'][i] \n",
    "\n",
    "    ans_word = l1['answers'][0]['text']\n",
    "    ans_word = unicodedata.normalize('NFKD', ans_word).encode('ascii','ignore')\n",
    "    ans_split = ans_word.split()\n",
    "    #ans_words = [x.lower() for x in ans_split]\n",
    "    ans_list.append(ans_split) \n",
    "    \n",
    "    "
   ]
  },
  {
   "cell_type": "code",
   "execution_count": 649,
   "metadata": {},
   "outputs": [
    {
     "data": {
      "text/plain": [
       "[['eight'],\n",
       " ['1920'],\n",
       " ['the', 'College', 'of', 'Science'],\n",
       " ['five'],\n",
       " ['the', '1870s']]"
      ]
     },
     "execution_count": 649,
     "metadata": {},
     "output_type": "execute_result"
    }
   ],
   "source": [
    "ans_list"
   ]
  },
  {
   "cell_type": "markdown",
   "metadata": {},
   "source": [
    "##### Converting answer words to 'unicode'  for NER #####"
   ]
  },
  {
   "cell_type": "code",
   "execution_count": 650,
   "metadata": {
    "collapsed": true
   },
   "outputs": [],
   "source": [
    "answers = []\n",
    "for i in range(len(ans_list)):\n",
    "    l1 = ' '.join(ans_list[i]) \n",
    "    l1 = unicode(l1,\"utf-8\")\n",
    "    answers.append(l1) "
   ]
  },
  {
   "cell_type": "code",
   "execution_count": 651,
   "metadata": {},
   "outputs": [
    {
     "data": {
      "text/plain": [
       "[u'eight', u'1920', u'the College of Science', u'five', u'the 1870s']"
      ]
     },
     "execution_count": 651,
     "metadata": {},
     "output_type": "execute_result"
    }
   ],
   "source": [
    "answers"
   ]
  },
  {
   "cell_type": "code",
   "execution_count": 652,
   "metadata": {},
   "outputs": [],
   "source": [
    "ans_mapping = []\n",
    "ans_word = []\n",
    "for i in range(len(answers)):\n",
    "    doc = nlp(answers[i])\n",
    "    for ent in doc.ents:\n",
    "        ans_mapping.append(ent.label_)  \n",
    "        ans_word.append(ent.text)\n",
    "        "
   ]
  },
  {
   "cell_type": "markdown",
   "metadata": {},
   "source": [
    "##### Answer mapping ###### "
   ]
  },
  {
   "cell_type": "code",
   "execution_count": 668,
   "metadata": {},
   "outputs": [],
   "source": [
    "Answer_character_df = pd.DataFrame()\n",
    "Answer_character_df['QuestionNo'] = range(len(question_mapping))\n",
    "Answer_character_df['QuestionMapping'] = question_mapping\n",
    "Answer_character_df['AnswerWord'] = ans_word\n",
    "Answer_character_df['AnsWordTag'] = ans_mapping"
   ]
  },
  {
   "cell_type": "code",
   "execution_count": 669,
   "metadata": {},
   "outputs": [
    {
     "data": {
      "text/html": [
       "<div>\n",
       "<style>\n",
       "    .dataframe thead tr:only-child th {\n",
       "        text-align: right;\n",
       "    }\n",
       "\n",
       "    .dataframe thead th {\n",
       "        text-align: left;\n",
       "    }\n",
       "\n",
       "    .dataframe tbody tr th {\n",
       "        vertical-align: top;\n",
       "    }\n",
       "</style>\n",
       "<table border=\"1\" class=\"dataframe\">\n",
       "  <thead>\n",
       "    <tr style=\"text-align: right;\">\n",
       "      <th></th>\n",
       "      <th>QuestionNo</th>\n",
       "      <th>QuestionMapping</th>\n",
       "      <th>AnswerWord</th>\n",
       "      <th>AnsWordTag</th>\n",
       "    </tr>\n",
       "  </thead>\n",
       "  <tbody>\n",
       "    <tr>\n",
       "      <th>0</th>\n",
       "      <td>0</td>\n",
       "      <td>How many</td>\n",
       "      <td>eight</td>\n",
       "      <td>CARDINAL</td>\n",
       "    </tr>\n",
       "    <tr>\n",
       "      <th>1</th>\n",
       "      <td>1</td>\n",
       "      <td>What year</td>\n",
       "      <td>1920</td>\n",
       "      <td>DATE</td>\n",
       "    </tr>\n",
       "    <tr>\n",
       "      <th>2</th>\n",
       "      <td>2</td>\n",
       "      <td>Which Notre</td>\n",
       "      <td>the College of Science</td>\n",
       "      <td>ORG</td>\n",
       "    </tr>\n",
       "    <tr>\n",
       "      <th>3</th>\n",
       "      <td>3</td>\n",
       "      <td>How many</td>\n",
       "      <td>five</td>\n",
       "      <td>CARDINAL</td>\n",
       "    </tr>\n",
       "    <tr>\n",
       "      <th>4</th>\n",
       "      <td>4</td>\n",
       "      <td>What time</td>\n",
       "      <td>the 1870s</td>\n",
       "      <td>DATE</td>\n",
       "    </tr>\n",
       "  </tbody>\n",
       "</table>\n",
       "</div>"
      ],
      "text/plain": [
       "   QuestionNo QuestionMapping              AnswerWord AnsWordTag\n",
       "0           0        How many                   eight   CARDINAL\n",
       "1           1       What year                    1920       DATE\n",
       "2           2     Which Notre  the College of Science        ORG\n",
       "3           3        How many                    five   CARDINAL\n",
       "4           4       What time               the 1870s       DATE"
      ]
     },
     "execution_count": 669,
     "metadata": {},
     "output_type": "execute_result"
    }
   ],
   "source": [
    "Answer_character_df"
   ]
  },
  {
   "cell_type": "markdown",
   "metadata": {},
   "source": [
    "###################################################################################################################"
   ]
  },
  {
   "cell_type": "markdown",
   "metadata": {},
   "source": [
    "##### Co occurance matrix #####"
   ]
  },
  {
   "cell_type": "code",
   "execution_count": 656,
   "metadata": {},
   "outputs": [],
   "source": [
    "Answer_document = []\n",
    "for i in range(len(Answer_character_df.index)): \n",
    "    Answer_document.append([Answer_character_df['QuestionMapping'][i],Answer_character_df['AnsWordTag'][i]]) "
   ]
  },
  {
   "cell_type": "code",
   "execution_count": 657,
   "metadata": {},
   "outputs": [
    {
     "data": {
      "text/plain": [
       "[['How many', u'CARDINAL'],\n",
       " ['What year', u'DATE'],\n",
       " ['Which Notre', u'ORG'],\n",
       " ['How many', u'CARDINAL'],\n",
       " ['What time', u'DATE']]"
      ]
     },
     "execution_count": 657,
     "metadata": {},
     "output_type": "execute_result"
    }
   ],
   "source": [
    "Answer_document"
   ]
  },
  {
   "cell_type": "code",
   "execution_count": 658,
   "metadata": {},
   "outputs": [
    {
     "data": {
      "text/html": [
       "<div>\n",
       "<style>\n",
       "    .dataframe thead tr:only-child th {\n",
       "        text-align: right;\n",
       "    }\n",
       "\n",
       "    .dataframe thead th {\n",
       "        text-align: left;\n",
       "    }\n",
       "\n",
       "    .dataframe tbody tr th {\n",
       "        vertical-align: top;\n",
       "    }\n",
       "</style>\n",
       "<table border=\"1\" class=\"dataframe\">\n",
       "  <thead>\n",
       "    <tr style=\"text-align: right;\">\n",
       "      <th></th>\n",
       "      <th>QuestionNO</th>\n",
       "      <th>QuestionMapping</th>\n",
       "      <th>Word</th>\n",
       "      <th>WordTag</th>\n",
       "    </tr>\n",
       "  </thead>\n",
       "  <tbody>\n",
       "    <tr>\n",
       "      <th>0</th>\n",
       "      <td>0</td>\n",
       "      <td>How many</td>\n",
       "      <td>the College of Engineering</td>\n",
       "      <td>ORG</td>\n",
       "    </tr>\n",
       "    <tr>\n",
       "      <th>1</th>\n",
       "      <td>0</td>\n",
       "      <td>How many</td>\n",
       "      <td>Notre Dame</td>\n",
       "      <td>GPE</td>\n",
       "    </tr>\n",
       "    <tr>\n",
       "      <th>2</th>\n",
       "      <td>1</td>\n",
       "      <td>What year</td>\n",
       "      <td>the College of Engineering</td>\n",
       "      <td>ORG</td>\n",
       "    </tr>\n",
       "    <tr>\n",
       "      <th>3</th>\n",
       "      <td>1</td>\n",
       "      <td>What year</td>\n",
       "      <td>Notre Dame</td>\n",
       "      <td>GPE</td>\n",
       "    </tr>\n",
       "    <tr>\n",
       "      <th>4</th>\n",
       "      <td>2</td>\n",
       "      <td>Which Notre</td>\n",
       "      <td>the College of Engineering</td>\n",
       "      <td>ORG</td>\n",
       "    </tr>\n",
       "  </tbody>\n",
       "</table>\n",
       "</div>"
      ],
      "text/plain": [
       "   QuestionNO QuestionMapping                        Word WordTag\n",
       "0           0        How many  the College of Engineering     ORG\n",
       "1           0        How many                  Notre Dame     GPE\n",
       "2           1       What year  the College of Engineering     ORG\n",
       "3           1       What year                  Notre Dame     GPE\n",
       "4           2     Which Notre  the College of Engineering     ORG"
      ]
     },
     "execution_count": 658,
     "metadata": {},
     "output_type": "execute_result"
    }
   ],
   "source": [
    "Question_character_df.head()"
   ]
  },
  {
   "cell_type": "code",
   "execution_count": 659,
   "metadata": {
    "collapsed": true
   },
   "outputs": [],
   "source": [
    "Question_document = []\n",
    "for i in range(len(Question_character_df.index)):\n",
    "    Question_document.append([Question_character_df['QuestionMapping'][i],Question_character_df['WordTag'][i]])\n"
   ]
  },
  {
   "cell_type": "code",
   "execution_count": 660,
   "metadata": {},
   "outputs": [
    {
     "data": {
      "text/plain": [
       "[['How many', u'ORG'],\n",
       " ['How many', u'GPE'],\n",
       " ['What year', u'ORG'],\n",
       " ['What year', u'GPE'],\n",
       " ['Which Notre', u'ORG'],\n",
       " ['Which Notre', u'GPE'],\n",
       " ['How many', u'PERSON'],\n",
       " ['What time', u'ORG'],\n",
       " ['What time', u'GPE']]"
      ]
     },
     "execution_count": 660,
     "metadata": {},
     "output_type": "execute_result"
    }
   ],
   "source": [
    "Question_document"
   ]
  },
  {
   "cell_type": "markdown",
   "metadata": {},
   "source": [
    "##### joining question-tag and answer-tag #####"
   ]
  },
  {
   "cell_type": "code",
   "execution_count": 661,
   "metadata": {
    "collapsed": true
   },
   "outputs": [],
   "source": [
    "document = Answer_document + Question_document"
   ]
  },
  {
   "cell_type": "code",
   "execution_count": 662,
   "metadata": {},
   "outputs": [
    {
     "data": {
      "text/plain": [
       "[['How many', u'CARDINAL'],\n",
       " ['What year', u'DATE'],\n",
       " ['Which Notre', u'ORG'],\n",
       " ['How many', u'CARDINAL'],\n",
       " ['What time', u'DATE'],\n",
       " ['How many', u'ORG'],\n",
       " ['How many', u'GPE'],\n",
       " ['What year', u'ORG'],\n",
       " ['What year', u'GPE'],\n",
       " ['Which Notre', u'ORG'],\n",
       " ['Which Notre', u'GPE'],\n",
       " ['How many', u'PERSON'],\n",
       " ['What time', u'ORG'],\n",
       " ['What time', u'GPE']]"
      ]
     },
     "execution_count": 662,
     "metadata": {},
     "output_type": "execute_result"
    }
   ],
   "source": [
    "document\n"
   ]
  },
  {
   "cell_type": "code",
   "execution_count": 664,
   "metadata": {},
   "outputs": [],
   "source": [
    "import numpy\n",
    "import itertools\n",
    "from collections import Counter\n",
    "varnames = tuple(sorted(set(itertools.chain(*document))))\n"
   ]
  },
  {
   "cell_type": "code",
   "execution_count": 665,
   "metadata": {
    "collapsed": true
   },
   "outputs": [],
   "source": [
    "expanded = [tuple(itertools.combinations(d, 2)) for d in document]\n",
    "expanded = itertools.chain(*expanded)\n",
    "\n",
    "# Sort the combinations so that A,B and B,A are treated the same\n",
    "expanded = [tuple(sorted(d)) for d in expanded]\n",
    "\n",
    "# count the combinations\n",
    "c = Counter(expanded) \n",
    "\n",
    "\n",
    "# Create the table\n",
    "table = numpy.zeros((len(varnames),len(varnames)), dtype=int)\n",
    "\n",
    "for i, v1 in enumerate(varnames):\n",
    "    for j, v2 in enumerate(varnames[i:]):        \n",
    "        j = j + i \n",
    "        table[i, j] = c[v1, v2]\n",
    "        table[j, i] = c[v1, v2]\n"
   ]
  },
  {
   "cell_type": "code",
   "execution_count": 666,
   "metadata": {},
   "outputs": [
    {
     "data": {
      "text/html": [
       "<div>\n",
       "<style>\n",
       "    .dataframe thead tr:only-child th {\n",
       "        text-align: right;\n",
       "    }\n",
       "\n",
       "    .dataframe thead th {\n",
       "        text-align: left;\n",
       "    }\n",
       "\n",
       "    .dataframe tbody tr th {\n",
       "        vertical-align: top;\n",
       "    }\n",
       "</style>\n",
       "<table border=\"1\" class=\"dataframe\">\n",
       "  <thead>\n",
       "    <tr style=\"text-align: right;\">\n",
       "      <th></th>\n",
       "      <th>CARDINAL</th>\n",
       "      <th>DATE</th>\n",
       "      <th>GPE</th>\n",
       "      <th>How many</th>\n",
       "      <th>ORG</th>\n",
       "      <th>PERSON</th>\n",
       "      <th>What time</th>\n",
       "      <th>What year</th>\n",
       "      <th>Which Notre</th>\n",
       "    </tr>\n",
       "  </thead>\n",
       "  <tbody>\n",
       "    <tr>\n",
       "      <th>CARDINAL</th>\n",
       "      <td>0</td>\n",
       "      <td>0</td>\n",
       "      <td>0</td>\n",
       "      <td>2</td>\n",
       "      <td>0</td>\n",
       "      <td>0</td>\n",
       "      <td>0</td>\n",
       "      <td>0</td>\n",
       "      <td>0</td>\n",
       "    </tr>\n",
       "    <tr>\n",
       "      <th>DATE</th>\n",
       "      <td>0</td>\n",
       "      <td>0</td>\n",
       "      <td>0</td>\n",
       "      <td>0</td>\n",
       "      <td>0</td>\n",
       "      <td>0</td>\n",
       "      <td>1</td>\n",
       "      <td>1</td>\n",
       "      <td>0</td>\n",
       "    </tr>\n",
       "    <tr>\n",
       "      <th>GPE</th>\n",
       "      <td>0</td>\n",
       "      <td>0</td>\n",
       "      <td>0</td>\n",
       "      <td>1</td>\n",
       "      <td>0</td>\n",
       "      <td>0</td>\n",
       "      <td>1</td>\n",
       "      <td>1</td>\n",
       "      <td>1</td>\n",
       "    </tr>\n",
       "    <tr>\n",
       "      <th>How many</th>\n",
       "      <td>2</td>\n",
       "      <td>0</td>\n",
       "      <td>1</td>\n",
       "      <td>0</td>\n",
       "      <td>1</td>\n",
       "      <td>1</td>\n",
       "      <td>0</td>\n",
       "      <td>0</td>\n",
       "      <td>0</td>\n",
       "    </tr>\n",
       "    <tr>\n",
       "      <th>ORG</th>\n",
       "      <td>0</td>\n",
       "      <td>0</td>\n",
       "      <td>0</td>\n",
       "      <td>1</td>\n",
       "      <td>0</td>\n",
       "      <td>0</td>\n",
       "      <td>1</td>\n",
       "      <td>1</td>\n",
       "      <td>2</td>\n",
       "    </tr>\n",
       "    <tr>\n",
       "      <th>PERSON</th>\n",
       "      <td>0</td>\n",
       "      <td>0</td>\n",
       "      <td>0</td>\n",
       "      <td>1</td>\n",
       "      <td>0</td>\n",
       "      <td>0</td>\n",
       "      <td>0</td>\n",
       "      <td>0</td>\n",
       "      <td>0</td>\n",
       "    </tr>\n",
       "    <tr>\n",
       "      <th>What time</th>\n",
       "      <td>0</td>\n",
       "      <td>1</td>\n",
       "      <td>1</td>\n",
       "      <td>0</td>\n",
       "      <td>1</td>\n",
       "      <td>0</td>\n",
       "      <td>0</td>\n",
       "      <td>0</td>\n",
       "      <td>0</td>\n",
       "    </tr>\n",
       "    <tr>\n",
       "      <th>What year</th>\n",
       "      <td>0</td>\n",
       "      <td>1</td>\n",
       "      <td>1</td>\n",
       "      <td>0</td>\n",
       "      <td>1</td>\n",
       "      <td>0</td>\n",
       "      <td>0</td>\n",
       "      <td>0</td>\n",
       "      <td>0</td>\n",
       "    </tr>\n",
       "    <tr>\n",
       "      <th>Which Notre</th>\n",
       "      <td>0</td>\n",
       "      <td>0</td>\n",
       "      <td>1</td>\n",
       "      <td>0</td>\n",
       "      <td>2</td>\n",
       "      <td>0</td>\n",
       "      <td>0</td>\n",
       "      <td>0</td>\n",
       "      <td>0</td>\n",
       "    </tr>\n",
       "  </tbody>\n",
       "</table>\n",
       "</div>"
      ],
      "text/plain": [
       "             CARDINAL  DATE  GPE  How many  ORG  PERSON  What time  What year  \\\n",
       "CARDINAL            0     0    0         2    0       0          0          0   \n",
       "DATE                0     0    0         0    0       0          1          1   \n",
       "GPE                 0     0    0         1    0       0          1          1   \n",
       "How many            2     0    1         0    1       1          0          0   \n",
       "ORG                 0     0    0         1    0       0          1          1   \n",
       "PERSON              0     0    0         1    0       0          0          0   \n",
       "What time           0     1    1         0    1       0          0          0   \n",
       "What year           0     1    1         0    1       0          0          0   \n",
       "Which Notre         0     0    1         0    2       0          0          0   \n",
       "\n",
       "             Which Notre  \n",
       "CARDINAL               0  \n",
       "DATE                   0  \n",
       "GPE                    1  \n",
       "How many               0  \n",
       "ORG                    2  \n",
       "PERSON                 0  \n",
       "What time              0  \n",
       "What year              0  \n",
       "Which Notre            0  "
      ]
     },
     "execution_count": 666,
     "metadata": {},
     "output_type": "execute_result"
    }
   ],
   "source": [
    "co_occ_matrix = pd.DataFrame(table,index = varnames,columns = varnames)\n",
    "co_occ_matrix"
   ]
  },
  {
   "cell_type": "code",
   "execution_count": null,
   "metadata": {
    "collapsed": true
   },
   "outputs": [],
   "source": []
  },
  {
   "cell_type": "code",
   "execution_count": null,
   "metadata": {
    "collapsed": true
   },
   "outputs": [],
   "source": []
  },
  {
   "cell_type": "code",
   "execution_count": null,
   "metadata": {
    "collapsed": true
   },
   "outputs": [],
   "source": []
  },
  {
   "cell_type": "code",
   "execution_count": null,
   "metadata": {
    "collapsed": true
   },
   "outputs": [],
   "source": []
  },
  {
   "cell_type": "code",
   "execution_count": null,
   "metadata": {
    "collapsed": true
   },
   "outputs": [],
   "source": []
  },
  {
   "cell_type": "code",
   "execution_count": 671,
   "metadata": {},
   "outputs": [
    {
     "data": {
      "text/plain": [
       "0.58778666490211906"
      ]
     },
     "execution_count": 671,
     "metadata": {},
     "output_type": "execute_result"
    }
   ],
   "source": [
    "np.log(1 + 0.8)"
   ]
  },
  {
   "cell_type": "code",
   "execution_count": 673,
   "metadata": {},
   "outputs": [
    {
     "data": {
      "text/plain": [
       "0.0"
      ]
     },
     "execution_count": 673,
     "metadata": {},
     "output_type": "execute_result"
    }
   ],
   "source": [
    "np.log(1 + 0)"
   ]
  },
  {
   "cell_type": "code",
   "execution_count": 674,
   "metadata": {},
   "outputs": [
    {
     "data": {
      "text/plain": [
       "array([[0, 0, 0, 2, 0, 0, 0, 0, 0],\n",
       "       [0, 0, 0, 0, 0, 0, 1, 1, 0],\n",
       "       [0, 0, 0, 1, 0, 0, 1, 1, 1],\n",
       "       [2, 0, 1, 0, 1, 1, 0, 0, 0],\n",
       "       [0, 0, 0, 1, 0, 0, 1, 1, 2],\n",
       "       [0, 0, 0, 1, 0, 0, 0, 0, 0],\n",
       "       [0, 1, 1, 0, 1, 0, 0, 0, 0],\n",
       "       [0, 1, 1, 0, 1, 0, 0, 0, 0],\n",
       "       [0, 0, 1, 0, 2, 0, 0, 0, 0]])"
      ]
     },
     "execution_count": 674,
     "metadata": {},
     "output_type": "execute_result"
    }
   ],
   "source": [
    "np.array(co_occ_matrix)"
   ]
  },
  {
   "cell_type": "code",
   "execution_count": null,
   "metadata": {
    "collapsed": true
   },
   "outputs": [],
   "source": []
  },
  {
   "cell_type": "code",
   "execution_count": null,
   "metadata": {
    "collapsed": true
   },
   "outputs": [],
   "source": []
  }
 ],
 "metadata": {
  "kernelspec": {
   "display_name": "Python 2",
   "language": "python",
   "name": "python2"
  },
  "language_info": {
   "codemirror_mode": {
    "name": "ipython",
    "version": 2
   },
   "file_extension": ".py",
   "mimetype": "text/x-python",
   "name": "python",
   "nbconvert_exporter": "python",
   "pygments_lexer": "ipython2",
   "version": "2.7.12"
  }
 },
 "nbformat": 4,
 "nbformat_minor": 2
}

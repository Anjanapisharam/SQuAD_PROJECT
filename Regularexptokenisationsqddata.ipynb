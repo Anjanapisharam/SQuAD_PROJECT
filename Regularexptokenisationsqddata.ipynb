{
 "cells": [
  {
   "cell_type": "code",
   "execution_count": 1,
   "metadata": {
    "collapsed": true
   },
   "outputs": [],
   "source": [
    "from nltk.tokenize import RegexpTokenizer\n"
   ]
  },
  {
   "cell_type": "markdown",
   "metadata": {},
   "source": [
    "* A(?=B) --- Find expression A where expression B follows:\n",
    "\n",
    "* A(?!B) --- Find expression A where expression B does not follow:\n",
    "\n",
    "* (?<=B)A --- Find expression A where expression B precedes:\n",
    "\n",
    "* (?<!B)A ---Find expression A where expression B does not precede:\n"
   ]
  },
  {
   "cell_type": "markdown",
   "metadata": {},
   "source": [
    "* \\w is not a word boundary, it matches any word character, including underscores: [a-zA-Z0-9_].  \\b is a word boundary, that is, it matches the position between a word and a non-alphanumeric character: \\W or [^\\w].\n",
    "\n",
    "* The \"\\w\" means \"any word character\" which usually means alphanumeric (letters, numbers, regardless of case) plus underscore (_) "
   ]
  },
  {
   "cell_type": "code",
   "execution_count": null,
   "metadata": {
    "collapsed": true
   },
   "outputs": [],
   "source": []
  },
  {
   "cell_type": "markdown",
   "metadata": {},
   "source": [
    "##### Experiments ##### "
   ]
  },
  {
   "cell_type": "code",
   "execution_count": 43,
   "metadata": {},
   "outputs": [
    {
     "name": "stdout",
     "output_type": "stream",
     "text": [
      "['100']\n",
      "['100']\n",
      "['200']\n"
     ]
    }
   ],
   "source": [
    "tokenizer = RegexpTokenizer(\"\\d+(?= Oranges)\")   \n",
    "print(tokenizer.tokenize(\"100 Oranges\"))\n",
    "print(tokenizer.tokenize(\"100 Oranges or 200 Apples\"))\n",
    "print(tokenizer.tokenize(\"100 Apples or 200 Oranges\")) \n"
   ]
  },
  {
   "cell_type": "code",
   "execution_count": 76,
   "metadata": {},
   "outputs": [
    {
     "name": "stdout",
     "output_type": "stream",
     "text": [
      "['100']\n"
     ]
    }
   ],
   "source": [
    "tokenizer = RegexpTokenizer(\"(?=\\d+ Oranges)\\d+\")  \n",
    "\n",
    "\n",
    "print(tokenizer.tokenize(\"100 Oranges 200\")) "
   ]
  },
  {
   "cell_type": "code",
   "execution_count": 65,
   "metadata": {},
   "outputs": [
    {
     "name": "stdout",
     "output_type": "stream",
     "text": [
      "[]\n",
      "['200']\n",
      "[]\n",
      "['200']\n",
      "['100', '30', '30']\n"
     ]
    }
   ],
   "source": [
    "tokenizer = RegexpTokenizer(\"(?!\\d+ Oranges)\\d+\")  \n",
    "\n",
    "print(tokenizer.tokenize(\"100 Oranges \"))\n",
    "print(tokenizer.tokenize(\"100 Oranges or 200\"))\n",
    "print(tokenizer.tokenize(\"100 Oranges or 200 Oranges\")) \n",
    "print(tokenizer.tokenize(\"100 Oranges 200\")) \n",
    "print(tokenizer.tokenize(\"100 30 40 Oranges 30\"))"
   ]
  },
  {
   "cell_type": "code",
   "execution_count": 80,
   "metadata": {},
   "outputs": [
    {
     "name": "stdout",
     "output_type": "stream",
     "text": [
      "['100']\n"
     ]
    }
   ],
   "source": [
    "tokenizer = RegexpTokenizer(\"(?<=USD)\\d+\") \n",
    "print(tokenizer.tokenize(\"100 in USD100\"))  "
   ]
  },
  {
   "cell_type": "code",
   "execution_count": 81,
   "metadata": {},
   "outputs": [
    {
     "name": "stdout",
     "output_type": "stream",
     "text": [
      "['100']\n"
     ]
    }
   ],
   "source": [
    "tookenizer  = RegexpTokenizer(\"\\d+(?= [a-z]{2})\")\n",
    "print(tokenizer.tokenize(\"100 in USD100\"))  "
   ]
  },
  {
   "cell_type": "code",
   "execution_count": 237,
   "metadata": {},
   "outputs": [
    {
     "name": "stdout",
     "output_type": "stream",
     "text": [
      "[]\n"
     ]
    }
   ],
   "source": [
    "tokenizer = RegexpTokenizer(\"(?!<=\\w.\\w.)([a-z])\\s\") \n",
    "print(tokenizer.tokenize(\"a.c. plkhj. jkl\"))  "
   ]
  },
  {
   "cell_type": "code",
   "execution_count": null,
   "metadata": {
    "collapsed": true
   },
   "outputs": [],
   "source": []
  },
  {
   "cell_type": "code",
   "execution_count": 84,
   "metadata": {
    "collapsed": true
   },
   "outputs": [],
   "source": [
    "import re\n",
    "sentences = re.split(r'(?<!\\w\\.\\w.)(?<![A-Z][a-z]\\.)(?<=\\.|\\?)\\s',text) \n"
   ]
  },
  {
   "cell_type": "code",
   "execution_count": 279,
   "metadata": {},
   "outputs": [
    {
     "data": {
      "text/plain": [
       "['Ammu is playing .', 'Appu is good.']"
      ]
     },
     "execution_count": 279,
     "metadata": {},
     "output_type": "execute_result"
    }
   ],
   "source": [
    "text = 'Ammu is playing . Appu is good.'\n",
    "re.split(r'(?<!\\w\\.\\w.)(?<![A-Z][a-z]\\.)(?<=\\.|\\?|!)\\s',text) \n"
   ]
  },
  {
   "cell_type": "code",
   "execution_count": null,
   "metadata": {
    "collapsed": true
   },
   "outputs": [],
   "source": []
  },
  {
   "cell_type": "code",
   "execution_count": 280,
   "metadata": {},
   "outputs": [
    {
     "data": {
      "text/plain": [
       "['abcd', ' ', '123.', ' ', 'efg']"
      ]
     },
     "execution_count": 280,
     "metadata": {},
     "output_type": "execute_result"
    }
   ],
   "source": [
    "text = 'abcd 123. efg'\n",
    "re.split(r'(?<![A-Z][a-z])(\\s)', text)"
   ]
  },
  {
   "cell_type": "code",
   "execution_count": 281,
   "metadata": {},
   "outputs": [
    {
     "data": {
      "text/plain": [
       "['abcd', ' ', '123.', ' ', 'efg']"
      ]
     },
     "execution_count": 281,
     "metadata": {},
     "output_type": "execute_result"
    }
   ],
   "source": [
    "re.split(r'(?<![A-Z][a-z]\\.)(\\s)', text)"
   ]
  },
  {
   "cell_type": "code",
   "execution_count": 282,
   "metadata": {},
   "outputs": [
    {
     "data": {
      "text/plain": [
       "['Dr. Shyam went to US .', 'For e.g. pilot']"
      ]
     },
     "execution_count": 282,
     "metadata": {},
     "output_type": "execute_result"
    }
   ],
   "source": [
    "text = 'Dr. Shyam went to US . For e.g. pilot'\n",
    "\n",
    "re.split(r'(?<!\\w\\.\\w.)(?<![A-Z][a-z]\\.)(?<=\\.|\\?)\\s',text) \n"
   ]
  },
  {
   "cell_type": "code",
   "execution_count": 294,
   "metadata": {},
   "outputs": [
    {
     "data": {
      "text/plain": [
       "['Dr. Shyam went to US !', 'For e.g. pilot']"
      ]
     },
     "execution_count": 294,
     "metadata": {},
     "output_type": "execute_result"
    }
   ],
   "source": [
    "text = 'Dr. Shyam went to US ! For e.g. pilot'\n",
    "\n",
    "re.split(r'(?<!\\w\\.\\w.)(?<![A-Z][a-z]\\.)(?<=\\.|\\?|\\!|\\$)\\s',text) \n"
   ]
  },
  {
   "cell_type": "code",
   "execution_count": 284,
   "metadata": {},
   "outputs": [
    {
     "data": {
      "text/plain": [
       "['Dr. Shyam went to US .', 'For e.g. pilot']"
      ]
     },
     "execution_count": 284,
     "metadata": {},
     "output_type": "execute_result"
    }
   ],
   "source": [
    "text = 'Dr. Shyam went to US . For e.g. pilot'\n",
    "\n",
    "re.split(r'(?<!\\w.\\w.)(?<![A-Z][a-z]\\.)(?<=\\.|\\?|\\!|\\$)\\s',text) \n"
   ]
  },
  {
   "cell_type": "markdown",
   "metadata": {},
   "source": [
    "####################################################################################################################"
   ]
  },
  {
   "cell_type": "code",
   "execution_count": null,
   "metadata": {
    "collapsed": true
   },
   "outputs": [],
   "source": []
  },
  {
   "cell_type": "code",
   "execution_count": null,
   "metadata": {
    "collapsed": true
   },
   "outputs": [],
   "source": []
  },
  {
   "cell_type": "markdown",
   "metadata": {},
   "source": [
    "###### Squad data sentence tokenization using Regular expression ######"
   ]
  },
  {
   "cell_type": "code",
   "execution_count": 166,
   "metadata": {
    "collapsed": true
   },
   "outputs": [],
   "source": [
    "import pandas as pd\n",
    "import nltk\n",
    "from nltk.tokenize import word_tokenize, sent_tokenize\n",
    "from nltk.corpus import wordnet as wn\n",
    "from nltk.corpus import stopwords\n",
    "from nltk.tokenize import RegexpTokenizer\n",
    "from nltk.stem import WordNetLemmatizer\n",
    "import spacy\n",
    "import collections\n",
    "import numpy as np\n",
    "from spacy.en import English\n",
    "import string\n",
    "import unicodedata\n",
    "import gensim\n",
    "import re\n",
    "from collections import Counter\n",
    "from itertools import chain\n",
    "from scipy.spatial import distance\n",
    "import spacy\n",
    "from collections import Counter\n",
    "\n",
    "nlp = spacy.load('en')\n",
    "parser = English()\n",
    "\n",
    "\n",
    "sqd_data = pd.read_json(\"/home/anjana/Downloads/train-v1.1.json\") \n"
   ]
  },
  {
   "cell_type": "code",
   "execution_count": 167,
   "metadata": {
    "collapsed": true
   },
   "outputs": [],
   "source": [
    "word2vec_model = gensim.models.KeyedVectors.load_word2vec_format('/home/anjana/Downloads/GoogleNews-vectors-negative300.bin', binary=True)\n"
   ]
  },
  {
   "cell_type": "code",
   "execution_count": 247,
   "metadata": {
    "collapsed": true
   },
   "outputs": [],
   "source": [
    "#score = word2vec_model.wmdistance(que_list[m].split(), sen_list[j].split())\n"
   ]
  },
  {
   "cell_type": "markdown",
   "metadata": {},
   "source": [
    "######################################################################################################################"
   ]
  },
  {
   "cell_type": "code",
   "execution_count": 285,
   "metadata": {},
   "outputs": [
    {
     "data": {
      "text/plain": [
       "'Architecturally, the school has a Catholic character. Atop the Main Building\\'s gold dome is a golden statue of the Virgin Mary. Immediately in front of the Main Building and facing it, is a copper statue of Christ with arms upraised with the legend \"Venite Ad Me Omnes\". Next to the Main Building is the Basilica of the Sacred Heart. Immediately behind the basilica is the Grotto, a Marian place of prayer and reflection. It is a replica of the grotto at Lourdes, France where the Virgin Mary reputedly appeared to Saint Bernadette Soubirous in 1858. At the end of the main drive (and in a direct line that connects through 3 statues and the Gold Dome), is a simple, modern stone statue of Mary.'"
      ]
     },
     "execution_count": 285,
     "metadata": {},
     "output_type": "execute_result"
    }
   ],
   "source": [
    "text = sqd_data.data[0]['paragraphs'][0]['context']\n",
    "text"
   ]
  },
  {
   "cell_type": "code",
   "execution_count": 286,
   "metadata": {},
   "outputs": [],
   "source": [
    "sentences = re.split(r'(?<!\\w\\.\\w.)(?<![A-Z][a-z]\\.)(?<=\\.|\\?|\\!|\\$)\\s', text)\n",
    "\n",
    "sent_token = [] \n",
    "for sent in sentences:\n",
    "    sent_token.append(sent)   "
   ]
  },
  {
   "cell_type": "code",
   "execution_count": 287,
   "metadata": {},
   "outputs": [
    {
     "data": {
      "text/plain": [
       "['Architecturally, the school has a Catholic character.',\n",
       " \"Atop the Main Building's gold dome is a golden statue of the Virgin Mary.\",\n",
       " 'Immediately in front of the Main Building and facing it, is a copper statue of Christ with arms upraised with the legend \"Venite Ad Me Omnes\".',\n",
       " 'Next to the Main Building is the Basilica of the Sacred Heart.',\n",
       " 'Immediately behind the basilica is the Grotto, a Marian place of prayer and reflection.',\n",
       " 'It is a replica of the grotto at Lourdes, France where the Virgin Mary reputedly appeared to Saint Bernadette Soubirous in 1858.',\n",
       " 'At the end of the main drive (and in a direct line that connects through 3 statues and the Gold Dome), is a simple, modern stone statue of Mary.']"
      ]
     },
     "execution_count": 287,
     "metadata": {},
     "output_type": "execute_result"
    }
   ],
   "source": [
    "sent_token"
   ]
  },
  {
   "cell_type": "markdown",
   "metadata": {},
   "source": [
    "######################################################################################################################"
   ]
  },
  {
   "cell_type": "code",
   "execution_count": 340,
   "metadata": {},
   "outputs": [
    {
     "data": {
      "text/plain": [
       "'The College of Engineering was established in 1920, however, early courses in civil and mechanical engineering were a part of the College of Science since the 1870s. Today the college, housed in the Fitzpatrick, Cushing, and Stinson-Remick Halls of Engineering, includes five departments of study – aerospace and mechanical engineering, chemical and biomolecular engineering, civil engineering and geological sciences, computer science and engineering, and electrical engineering – with eight B.S. degrees offered. Additionally, the college offers five-year dual degree programs with the Colleges of Arts and Letters and of Business awarding additional B.A. and Master of Business Administration (MBA) degrees, respectively.'"
      ]
     },
     "execution_count": 340,
     "metadata": {},
     "output_type": "execute_result"
    }
   ],
   "source": [
    "text = sqd_data.data[0]['paragraphs'][3]['context']\n",
    "text"
   ]
  },
  {
   "cell_type": "code",
   "execution_count": 289,
   "metadata": {},
   "outputs": [],
   "source": [
    "sentences = re.split(r'(?<!\\w\\.\\w.)(?<![A-Z][a-z]\\.)(?<=\\.|\\?|\\!|\\$)\\s', text)\n",
    "\n",
    "sent_token = [] \n",
    "for sent in sentences:\n",
    "    sent_token.append(sent)   "
   ]
  },
  {
   "cell_type": "code",
   "execution_count": 290,
   "metadata": {},
   "outputs": [
    {
     "data": {
      "text/plain": [
       "['The College of Engineering was established in 1920, however, early courses in civil and mechanical engineering were a part of the College of Science since the 1870s.',\n",
       " 'Today the college, housed in the Fitzpatrick, Cushing, and Stinson-Remick Halls of Engineering, includes five departments of study – aerospace and mechanical engineering, chemical and biomolecular engineering, civil engineering and geological sciences, computer science and engineering, and electrical engineering – with eight B.S. degrees offered.',\n",
       " 'Additionally, the college offers five-year dual degree programs with the Colleges of Arts and Letters and of Business awarding additional B.A. and Master of Business Administration (MBA) degrees, respectively.']"
      ]
     },
     "execution_count": 290,
     "metadata": {},
     "output_type": "execute_result"
    }
   ],
   "source": [
    "sent_token"
   ]
  },
  {
   "cell_type": "markdown",
   "metadata": {},
   "source": [
    "#####################################################################################################################"
   ]
  },
  {
   "cell_type": "code",
   "execution_count": 377,
   "metadata": {},
   "outputs": [
    {
     "data": {
      "text/plain": [
       "'Where there is a distinction, Nasrani refers to people from a Christian culture and Masihi means those with a religious faith in Jesus. In some countries Nasrani tends to be used generically for non-Muslim Western foreigners, e.g. \"blond people.\"'"
      ]
     },
     "execution_count": 377,
     "metadata": {},
     "output_type": "execute_result"
    }
   ],
   "source": [
    "text = sqd_data.data[49]['paragraphs'][13]['context']\n",
    "text\n"
   ]
  },
  {
   "cell_type": "code",
   "execution_count": 374,
   "metadata": {
    "collapsed": true
   },
   "outputs": [],
   "source": [
    "sentences = re.split(r'(?<!\\w\\.\\w.)(?<![A-Z][a-z]\\.)(?<=\\.|\\?|\\!|\\$)\\s', text)\n",
    "\n",
    "sent_token = [] \n",
    "for sent in sentences:\n",
    "    sent_token.append(sent)   "
   ]
  },
  {
   "cell_type": "code",
   "execution_count": 375,
   "metadata": {},
   "outputs": [
    {
     "data": {
      "text/plain": [
       "['Where there is a distinction, Nasrani refers to people from a Christian culture and Masihi means those with a religious faith in Jesus.',\n",
       " 'In some countries Nasrani tends to be used generically for non-Muslim Western foreigners, e.g. \"blond people.\"']"
      ]
     },
     "execution_count": 375,
     "metadata": {},
     "output_type": "execute_result"
    }
   ],
   "source": [
    "sent_token"
   ]
  },
  {
   "cell_type": "markdown",
   "metadata": {},
   "source": [
    "##### Para - Sent tokenization for sqd data set ##### "
   ]
  },
  {
   "cell_type": "code",
   "execution_count": 376,
   "metadata": {
    "collapsed": true
   },
   "outputs": [],
   "source": [
    "def regexp_token(para):\n",
    "    sentences = re.split(r'(?<!\\w\\.\\w.)(?<![A-Z][a-z]\\.)(?<=\\.|\\?|\\!|\\$)\\s', para)\n",
    "    sent_token = [] \n",
    "    for sent in sentences:\n",
    "        sent_token.append(sent)   \n",
    "    return sent_token\n",
    "\n",
    "\n",
    "    "
   ]
  },
  {
   "cell_type": "code",
   "execution_count": 386,
   "metadata": {
    "collapsed": true
   },
   "outputs": [],
   "source": [
    "def preprocess_question(para_question):\n",
    "    question_list = []\n",
    "    for i in range(len(para_question)):\n",
    "        l1 = para_question[i]['question']\n",
    "        l1 = unicodedata.normalize('NFKD', l1).encode('ascii','ignore').decode('utf-8')\n",
    "        question_list.append(l1)\n",
    "    \n",
    "   \n",
    "    return question_list"
   ]
  },
  {
   "cell_type": "code",
   "execution_count": 393,
   "metadata": {},
   "outputs": [],
   "source": [
    "#regexp_token(sqd_data.data[0]['paragraphs'][3]['context'])"
   ]
  },
  {
   "cell_type": "code",
   "execution_count": 387,
   "metadata": {},
   "outputs": [],
   "source": [
    "sent_token_list = []\n",
    "que_list = []\n",
    "\n",
    "for i in range(0,50):\n",
    "    paragraph_pointer = sqd_data.data[i]['paragraphs'] \n",
    "    \n",
    "\n",
    "    for k in range(len(paragraph_pointer)):\n",
    "        sent_token_list.append(regexp_token(paragraph_pointer[k]['context'])) \n",
    "        que_list.append(preprocess_question(paragraph_pointer[k]['qas'])) \n",
    "\n",
    "        \n"
   ]
  },
  {
   "cell_type": "code",
   "execution_count": 389,
   "metadata": {},
   "outputs": [
    {
     "name": "stdout",
     "output_type": "stream",
     "text": [
      "2694\n",
      "2694\n"
     ]
    }
   ],
   "source": [
    "print(len(sent_token_list))\n",
    "print(len(que_list))"
   ]
  },
  {
   "cell_type": "code",
   "execution_count": 385,
   "metadata": {},
   "outputs": [
    {
     "data": {
      "text/plain": [
       "['The university is the major seat of the Congregation of Holy Cross (albeit not its official headquarters, which are in Rome).',\n",
       " 'Its main seminary, Moreau Seminary, is located on the campus across St. Joseph lake from the Main Building.',\n",
       " 'Old College, the oldest building on campus and located near the shore of St. Mary lake, houses undergraduate seminarians.',\n",
       " 'Retired priests and brothers reside in Fatima House (a former retreat center), Holy Cross House, as well as Columba Hall near the Grotto.',\n",
       " 'The university through the Moreau Seminary has ties to theologian Frederick Buechner.',\n",
       " 'While not Catholic, Buechner has praised writers from Notre Dame and Moreau Seminary created a Buechner Prize for Preaching.']"
      ]
     },
     "execution_count": 385,
     "metadata": {},
     "output_type": "execute_result"
    }
   ],
   "source": [
    "sent_token_list[2]"
   ]
  },
  {
   "cell_type": "code",
   "execution_count": 388,
   "metadata": {},
   "outputs": [
    {
     "data": {
      "text/plain": [
       "['Where is the headquarters of the Congregation of the Holy Cross?',\n",
       " 'What is the primary seminary of the Congregation of the Holy Cross?',\n",
       " 'What is the oldest structure at Notre Dame?',\n",
       " 'What individuals live at Fatima House at Notre Dame?',\n",
       " 'Which prize did Frederick Buechner create?']"
      ]
     },
     "execution_count": 388,
     "metadata": {},
     "output_type": "execute_result"
    }
   ],
   "source": [
    "que_list[2]"
   ]
  },
  {
   "cell_type": "markdown",
   "metadata": {},
   "source": [
    "######################################################################################################################"
   ]
  },
  {
   "cell_type": "markdown",
   "metadata": {},
   "source": [
    "#### Word entity extraction using google API #####"
   ]
  },
  {
   "cell_type": "code",
   "execution_count": 320,
   "metadata": {
    "collapsed": true
   },
   "outputs": [],
   "source": [
    "import google.cloud"
   ]
  },
  {
   "cell_type": "code",
   "execution_count": null,
   "metadata": {
    "collapsed": true
   },
   "outputs": [],
   "source": [
    "#Squad Data Project-1a4fdb48abfd.json"
   ]
  },
  {
   "cell_type": "code",
   "execution_count": 321,
   "metadata": {
    "collapsed": true
   },
   "outputs": [],
   "source": [
    "import os"
   ]
  },
  {
   "cell_type": "code",
   "execution_count": 327,
   "metadata": {
    "collapsed": true
   },
   "outputs": [],
   "source": [
    "os.environ['GOOGLE_APPLICATION_CREDENTIALS']= '/home/anjana/SquadDataProject1a4fdb48abfd.json' \n"
   ]
  },
  {
   "cell_type": "code",
   "execution_count": 302,
   "metadata": {},
   "outputs": [
    {
     "data": {
      "text/plain": [
       "'The College of Engineering was established in 1920, however, early courses in civil and mechanical engineering were a part of the College of Science since the 1870s.'"
      ]
     },
     "execution_count": 302,
     "metadata": {},
     "output_type": "execute_result"
    }
   ],
   "source": [
    "text = 'The College of Engineering was established in 1920, however, early courses in civil and mechanical engineering were a part of the College of Science since the 1870s.'\n",
    "text"
   ]
  },
  {
   "cell_type": "code",
   "execution_count": 341,
   "metadata": {},
   "outputs": [],
   "source": [
    "split_text = text.split()"
   ]
  },
  {
   "cell_type": "code",
   "execution_count": 328,
   "metadata": {},
   "outputs": [],
   "source": [
    "from google.cloud import language\n"
   ]
  },
  {
   "cell_type": "code",
   "execution_count": 395,
   "metadata": {},
   "outputs": [],
   "source": [
    "#from google.cloud import language\n",
    "#from google.cloud.language import types\n"
   ]
  },
  {
   "cell_type": "code",
   "execution_count": 396,
   "metadata": {},
   "outputs": [],
   "source": [
    "#from google.cloud.language import enums\n"
   ]
  },
  {
   "cell_type": "code",
   "execution_count": 324,
   "metadata": {},
   "outputs": [],
   "source": [
    "import requests\n",
    "import os\n",
    "import googleapiclient.discovery\n",
    "from xml.dom import minidom \n",
    "import nltk\n",
    "\n",
    "#from xml.dom.minidom import parseString\n",
    "#from jsonpath_rw import jsonpath, parse\n",
    "#from google.cloud import translate\n",
    "#from os import listdir"
   ]
  },
  {
   "cell_type": "code",
   "execution_count": 397,
   "metadata": {},
   "outputs": [
    {
     "data": {
      "text/plain": [
       "'Architecturally, the school has a Catholic character. Atop the Main Building\\'s gold dome is a golden statue of the Virgin Mary. Immediately in front of the Main Building and facing it, is a copper statue of Christ with arms upraised with the legend \"Venite Ad Me Omnes\". Next to the Main Building is the Basilica of the Sacred Heart. Immediately behind the basilica is the Grotto, a Marian place of prayer and reflection. It is a replica of the grotto at Lourdes, France where the Virgin Mary reputedly appeared to Saint Bernadette Soubirous in 1858. At the end of the main drive (and in a direct line that connects through 3 statues and the Gold Dome), is a simple, modern stone statue of Mary.'"
      ]
     },
     "execution_count": 397,
     "metadata": {},
     "output_type": "execute_result"
    }
   ],
   "source": [
    "text = sqd_data.data[0]['paragraphs'][0]['context'] \n",
    "text"
   ]
  },
  {
   "cell_type": "code",
   "execution_count": null,
   "metadata": {},
   "outputs": [],
   "source": []
  },
  {
   "cell_type": "code",
   "execution_count": null,
   "metadata": {},
   "outputs": [],
   "source": []
  },
  {
   "cell_type": "markdown",
   "metadata": {},
   "source": [
    "##### Paragrah to String of tokenized  words separated by commas form #####"
   ]
  },
  {
   "cell_type": "markdown",
   "metadata": {},
   "source": [
    "* For 3 paragrapghs from First data - TRIAL"
   ]
  },
  {
   "cell_type": "code",
   "execution_count": 358,
   "metadata": {
    "collapsed": true
   },
   "outputs": [],
   "source": [
    "split_text_list = []  \n",
    "for i in range(0,3):\n",
    "    para = sqd_data.data[0]['paragraphs'][i]['context']   ### Paragraphs -  string form \n",
    "    \n",
    "    split_text = para.split()   ### words splitting. Now each word is a string.   \n",
    "    join_split_text = (','.join(split_text)) ### Join each word by commas. Removing string constraint of each word. \n",
    "                                              ### Making under single string.\n",
    "\n",
    "    split_text_list.append(join_split_text)  "
   ]
  },
  {
   "cell_type": "code",
   "execution_count": 359,
   "metadata": {},
   "outputs": [
    {
     "data": {
      "text/plain": [
       "3"
      ]
     },
     "execution_count": 359,
     "metadata": {},
     "output_type": "execute_result"
    }
   ],
   "source": [
    "len(split_text_list)"
   ]
  },
  {
   "cell_type": "code",
   "execution_count": 367,
   "metadata": {},
   "outputs": [
    {
     "data": {
      "text/plain": [
       "'The,university,is,the,major,seat,of,the,Congregation,of,Holy,Cross,(albeit,not,its,official,headquarters,,which,are,in,Rome).,Its,main,seminary,,Moreau,Seminary,,is,located,on,the,campus,across,St.,Joseph,lake,from,the,Main,Building.,Old,College,,the,oldest,building,on,campus,and,located,near,the,shore,of,St.,Mary,lake,,houses,undergraduate,seminarians.,Retired,priests,and,brothers,reside,in,Fatima,House,(a,former,retreat,center),,Holy,Cross,House,,as,well,as,Columba,Hall,near,the,Grotto.,The,university,through,the,Moreau,Seminary,has,ties,to,theologian,Frederick,Buechner.,While,not,Catholic,,Buechner,has,praised,writers,from,Notre,Dame,and,Moreau,Seminary,created,a,Buechner,Prize,for,Preaching.'"
      ]
     },
     "execution_count": 367,
     "metadata": {},
     "output_type": "execute_result"
    }
   ],
   "source": [
    "split_text_list[2]"
   ]
  },
  {
   "cell_type": "code",
   "execution_count": 364,
   "metadata": {},
   "outputs": [],
   "source": [
    "#len(split_text)"
   ]
  },
  {
   "cell_type": "code",
   "execution_count": 343,
   "metadata": {
    "collapsed": true
   },
   "outputs": [],
   "source": [
    "def get_word_entities(text):\n",
    "    service = googleapiclient.discovery.build('language', 'v1')\n",
    "    word_entities=[]\n",
    "    service_request = service.documents().analyzeEntities(\n",
    "            body={\n",
    "                'document': {\n",
    "                    'type': 'PLAIN_TEXT',\n",
    "                    'content': text,\n",
    "                }\n",
    "            }\n",
    "        )\n",
    "    response = service_request.execute()\n",
    "    for n, entity in enumerate(response['entities']):\n",
    "        word_entities.append({'name':entity['name'], 'type':entity['type'],'salience_score':entity['salience']})\n",
    "    return word_entities"
   ]
  },
  {
   "cell_type": "code",
   "execution_count": 368,
   "metadata": {
    "collapsed": true
   },
   "outputs": [],
   "source": [
    "word_ent_list = [] \n",
    "for i in range(len(split_text_list)):   \n",
    "     word_ent_list.append(get_word_entities(split_text_list[i])) "
   ]
  },
  {
   "cell_type": "code",
   "execution_count": 372,
   "metadata": {},
   "outputs": [
    {
     "data": {
      "text/plain": [
       "[{'name': 'Notre', 'salience_score': 0.1864579, 'type': 'OTHER'},\n",
       " {'name': 'seat', 'salience_score': 0.07258615, 'type': 'OTHER'},\n",
       " {'name': 'university', 'salience_score': 0.06189041, 'type': 'ORGANIZATION'},\n",
       " {'name': 'Seminary', 'salience_score': 0.047258124, 'type': 'PERSON'},\n",
       " {'name': 'Congregation',\n",
       "  'salience_score': 0.04353138,\n",
       "  'type': 'ORGANIZATION'},\n",
       " {'name': 'Moreau', 'salience_score': 0.041618675, 'type': 'PERSON'},\n",
       " {'name': 'Cross', 'salience_score': 0.03703572, 'type': 'ORGANIZATION'},\n",
       " {'name': 'Holy', 'salience_score': 0.029326007, 'type': 'PERSON'},\n",
       " {'name': 'headquarters', 'salience_score': 0.02094665, 'type': 'LOCATION'},\n",
       " {'name': 'official', 'salience_score': 0.02094665, 'type': 'PERSON'},\n",
       " {'name': 'Its', 'salience_score': 0.02094665, 'type': 'OTHER'},\n",
       " {'name': 'seminary', 'salience_score': 0.019036494, 'type': 'EVENT'},\n",
       " {'name': 'seminarians.', 'salience_score': 0.018796308, 'type': 'PERSON'},\n",
       " {'name': 'houses', 'salience_score': 0.018293133, 'type': 'LOCATION'},\n",
       " {'name': 'lake', 'salience_score': 0.016695509, 'type': 'LOCATION'},\n",
       " {'name': 'campus', 'salience_score': 0.016695509, 'type': 'LOCATION'},\n",
       " {'name': 'building', 'salience_score': 0.016695509, 'type': 'LOCATION'},\n",
       " {'name': 'lake', 'salience_score': 0.016484616, 'type': 'LOCATION'},\n",
       " {'name': 'campus', 'salience_score': 0.016484616, 'type': 'LOCATION'},\n",
       " {'name': 'shore', 'salience_score': 0.014676121, 'type': 'LOCATION'},\n",
       " {'name': 'St.', 'salience_score': 0.014597975, 'type': 'LOCATION'},\n",
       " {'name': 'College', 'salience_score': 0.014490552, 'type': 'ORGANIZATION'},\n",
       " {'name': 'undergraduate', 'salience_score': 0.013255213, 'type': 'OTHER'},\n",
       " {'name': 'priests', 'salience_score': 0.013255213, 'type': 'PERSON'},\n",
       " {'name': 'brothers', 'salience_score': 0.013255213, 'type': 'PERSON'},\n",
       " {'name': 'retreat', 'salience_score': 0.013255213, 'type': 'OTHER'},\n",
       " {'name': 'center', 'salience_score': 0.013255213, 'type': 'LOCATION'},\n",
       " {'name': 'Rome', 'salience_score': 0.012430527, 'type': 'LOCATION'},\n",
       " {'name': 'theologian', 'salience_score': 0.009887472, 'type': 'PERSON'},\n",
       " {'name': 'ties', 'salience_score': 0.009887472, 'type': 'OTHER'},\n",
       " {'name': 'Building.', 'salience_score': 0.0097737415, 'type': 'LOCATION'},\n",
       " {'name': 'Mary', 'salience_score': 0.008698296, 'type': 'PERSON'},\n",
       " {'name': 'House', 'salience_score': 0.008677907, 'type': 'ORGANIZATION'},\n",
       " {'name': 'Old', 'salience_score': 0.008587989, 'type': 'PERSON'},\n",
       " {'name': 'Main', 'salience_score': 0.008587989, 'type': 'PERSON'},\n",
       " {'name': 'Joseph', 'salience_score': 0.008587989, 'type': 'PERSON'},\n",
       " {'name': 'Fatima', 'salience_score': 0.007853885, 'type': 'PERSON'},\n",
       " {'name': 'Retired', 'salience_score': 0.007853885, 'type': 'EVENT'},\n",
       " {'name': 'writers', 'salience_score': 0.0068283784, 'type': 'PERSON'},\n",
       " {'name': 'Dame', 'salience_score': 0.0068283784, 'type': 'PERSON'},\n",
       " {'name': 'Frederick', 'salience_score': 0.006387248, 'type': 'PERSON'},\n",
       " {'name': 'Catholic', 'salience_score': 0.0058544613, 'type': 'ORGANIZATION'},\n",
       " {'name': 'Cross', 'salience_score': 0.004969551, 'type': 'OTHER'},\n",
       " {'name': 'university', 'salience_score': 0.004969551, 'type': 'ORGANIZATION'},\n",
       " {'name': 'Prize', 'salience_score': 0.0040406426, 'type': 'OTHER'},\n",
       " {'name': 'Preaching', 'salience_score': 0.0040406426, 'type': 'OTHER'},\n",
       " {'name': 'Grotto.', 'salience_score': 0.0025818963, 'type': 'PERSON'},\n",
       " {'name': 'Hall', 'salience_score': 0.0025818963, 'type': 'PERSON'},\n",
       " {'name': 'Columba', 'salience_score': 0.0025818963, 'type': 'PERSON'},\n",
       " {'name': 'The', 'salience_score': 0.0025818963, 'type': 'ORGANIZATION'}]"
      ]
     },
     "execution_count": 372,
     "metadata": {},
     "output_type": "execute_result"
    }
   ],
   "source": [
    "word_ent_list[2]"
   ]
  },
  {
   "cell_type": "code",
   "execution_count": 402,
   "metadata": {},
   "outputs": [],
   "source": [
    "#df = (','.join(split_text))\n",
    "#df"
   ]
  },
  {
   "cell_type": "code",
   "execution_count": 344,
   "metadata": {},
   "outputs": [
    {
     "data": {
      "text/plain": [
       "[{'name': 'College', 'salience_score': 0.109747574, 'type': 'OTHER'},\n",
       " {'name': 'courses', 'salience_score': 0.078499146, 'type': 'OTHER'},\n",
       " {'name': 'Engineering', 'salience_score': 0.07524299, 'type': 'OTHER'},\n",
       " {'name': 'engineering', 'salience_score': 0.04875408, 'type': 'OTHER'},\n",
       " {'name': 'Engineering', 'salience_score': 0.034312725, 'type': 'OTHER'},\n",
       " {'name': 'engineering', 'salience_score': 0.034312725, 'type': 'OTHER'},\n",
       " {'name': 'departments',\n",
       "  'salience_score': 0.031974595,\n",
       "  'type': 'ORGANIZATION'},\n",
       " {'name': 'engineering', 'salience_score': 0.031022241, 'type': 'OTHER'},\n",
       " {'name': 'engineering', 'salience_score': 0.031022241, 'type': 'OTHER'},\n",
       " {'name': 'engineering', 'salience_score': 0.031022241, 'type': 'OTHER'},\n",
       " {'name': 'part', 'salience_score': 0.03040166, 'type': 'OTHER'},\n",
       " {'name': 'college', 'salience_score': 0.029818593, 'type': 'OTHER'},\n",
       " {'name': 'College', 'salience_score': 0.025609616, 'type': 'ORGANIZATION'},\n",
       " {'name': 'sciences', 'salience_score': 0.024011312, 'type': 'OTHER'},\n",
       " {'name': 'science', 'salience_score': 0.024011312, 'type': 'OTHER'},\n",
       " {'name': 'Science', 'salience_score': 0.022525655, 'type': 'OTHER'},\n",
       " {'name': 'study', 'salience_score': 0.021335104, 'type': 'OTHER'},\n",
       " {'name': 'chemical', 'salience_score': 0.021335104, 'type': 'CONSUMER_GOOD'},\n",
       " {'name': 'aerospace', 'salience_score': 0.021335104, 'type': 'OTHER'},\n",
       " {'name': 'Halls', 'salience_score': 0.021066343, 'type': 'LOCATION'},\n",
       " {'name': 'Colleges', 'salience_score': 0.020400029, 'type': 'ORGANIZATION'},\n",
       " {'name': 'biomolecular', 'salience_score': 0.019276543, 'type': 'OTHER'},\n",
       " {'name': 'computer', 'salience_score': 0.019276543, 'type': 'CONSUMER_GOOD'},\n",
       " {'name': 'degree', 'salience_score': 0.017937537, 'type': 'OTHER'},\n",
       " {'name': 'Arts', 'salience_score': 0.014391452, 'type': 'OTHER'},\n",
       " {'name': 'programs', 'salience_score': 0.014391452, 'type': 'OTHER'},\n",
       " {'name': 'Fitzpatrick', 'salience_score': 0.012504214, 'type': 'PERSON'},\n",
       " {'name': 'Stinson-Remick', 'salience_score': 0.012504214, 'type': 'PERSON'},\n",
       " {'name': 'Cushing', 'salience_score': 0.012504214, 'type': 'LOCATION'},\n",
       " {'name': 'degrees', 'salience_score': 0.0124046635, 'type': 'OTHER'},\n",
       " {'name': 'Business', 'salience_score': 0.011318675, 'type': 'OTHER'},\n",
       " {'name': 'Business', 'salience_score': 0.011318675, 'type': 'OTHER'},\n",
       " {'name': 'engineering', 'salience_score': 0.010282237, 'type': 'OTHER'},\n",
       " {'name': 'Administration',\n",
       "  'salience_score': 0.009946714,\n",
       "  'type': 'ORGANIZATION'},\n",
       " {'name': 'college', 'salience_score': 0.009035317, 'type': 'OTHER'},\n",
       " {'name': 'Letters', 'salience_score': 0.00853018, 'type': 'WORK_OF_ART'},\n",
       " {'name': 'degrees', 'salience_score': 0.007938988, 'type': 'OTHER'},\n",
       " {'name': 'offers', 'salience_score': 0.0072424854, 'type': 'OTHER'},\n",
       " {'name': 'B.A.', 'salience_score': 0.0058901324, 'type': 'LOCATION'},\n",
       " {'name': 'Master', 'salience_score': 0.0058901324, 'type': 'CONSUMER_GOOD'},\n",
       " {'name': 'MBA', 'salience_score': 0.0058901324, 'type': 'ORGANIZATION'},\n",
       " {'name': 'B.S.', 'salience_score': 0.0037651043, 'type': 'OTHER'}]"
      ]
     },
     "execution_count": 344,
     "metadata": {},
     "output_type": "execute_result"
    }
   ],
   "source": [
    "get_word_entities(df)\n"
   ]
  },
  {
   "cell_type": "code",
   "execution_count": null,
   "metadata": {
    "collapsed": true
   },
   "outputs": [],
   "source": []
  },
  {
   "cell_type": "code",
   "execution_count": null,
   "metadata": {
    "collapsed": true
   },
   "outputs": [],
   "source": []
  },
  {
   "cell_type": "code",
   "execution_count": null,
   "metadata": {
    "collapsed": true
   },
   "outputs": [],
   "source": []
  }
 ],
 "metadata": {
  "kernelspec": {
   "display_name": "Python 3",
   "language": "python",
   "name": "python3"
  },
  "language_info": {
   "codemirror_mode": {
    "name": "ipython",
    "version": 3
   },
   "file_extension": ".py",
   "mimetype": "text/x-python",
   "name": "python",
   "nbconvert_exporter": "python",
   "pygments_lexer": "ipython3",
   "version": "3.5.2"
  }
 },
 "nbformat": 4,
 "nbformat_minor": 2
}
